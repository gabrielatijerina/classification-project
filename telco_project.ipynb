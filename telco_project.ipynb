{
 "cells": [
  {
   "cell_type": "markdown",
   "metadata": {},
   "source": [
    "# Predicting Customer Churn at Telco \n"
   ]
  },
  {
   "cell_type": "markdown",
   "metadata": {},
   "source": [
    "## Project Objectives:\n",
    "- Document code, process (data acquistion, preparation, exploratory data analysis and statistical testing, modeling, and model evaluation), findings, and key takeaways in a Jupyter Notebook report.\n",
    "\n",
    "- Create modules (acquire.py, prepare.py) that make your process repeateable.\n",
    "\n",
    "- Construct a model to predict customer churn using classification techniques.\n",
    "\n",
    "## Project Goals: \n",
    "- Find drivers of churn at Telco using data from Codeup's SQL database\n",
    "- Construct a ML classification model that accurately predicts customer churn \n",
    "\n",
    "## The Process:\n",
    "- Acquire Data\n",
    "- Prepare \n",
    "- Explore \n",
    "- Model & Evaluate\n",
    "- Recommendations"
   ]
  },
  {
   "cell_type": "markdown",
   "metadata": {},
   "source": [
    "# Data Acquisition\n",
    "- Run imports\n",
    "- Acquire data from the customers table from the `telco_churn` database on Codeup's Data Science database server using functions in acquire.py"
   ]
  },
  {
   "cell_type": "code",
   "execution_count": 4,
   "metadata": {},
   "outputs": [],
   "source": [
    "#imports for project \n",
    "import numpy as np \n",
    "import pandas as pd\n",
    "# visualize\n",
    "import matplotlib.pyplot as plt\n",
    "import seaborn as sns \n",
    "import graphviz\n",
    "from graphviz import Graph\n",
    "# turn off pink warning boxes\n",
    "import warnings\n",
    "warnings.filterwarnings(\"ignore\")\n",
    "# .py modules to acquire and prep the data\n",
    "import acquire\n",
    "import prepare\n",
    "# hypothesis tests for data exploration\n",
    "from scipy.stats import chi2_contingency\n",
    "from scipy.stats import ttest_1samp\n",
    "from scipy.stats import ttest_ind\n",
    "# train, validate, test\n",
    "from sklearn.model_selection import train_test_split\n",
    "# evaluating models\n",
    "from sklearn.metrics import confusion_matrix\n",
    "from sklearn.metrics import classification_report\n",
    "from sklearn.metrics import accuracy_score\n",
    "from sklearn.metrics import precision_score\n",
    "from sklearn.metrics import recall_score\n",
    "from sklearn.metrics import f1_score\n",
    "from sklearn.metrics import precision_recall_fscore_support \n",
    "# creating models for classification ML:\n",
    "# Decision Tree  \n",
    "from sklearn.tree import DecisionTreeClassifier\n",
    "from sklearn.tree import export_graphviz\n",
    "# Random Forest\n",
    "from sklearn.ensemble import RandomForestClassifier\n",
    "# K-Nearest Neighbor(KNN)  \n",
    "from sklearn.neighbors import KNeighborsClassifier\n",
    "# Logistic Regression\n",
    "from sklearn.linear_model import LogisticRegression"
   ]
  },
  {
   "cell_type": "markdown",
   "metadata": {},
   "source": [
    "### Data Summarization"
   ]
  },
  {
   "cell_type": "code",
   "execution_count": 142,
   "metadata": {},
   "outputs": [
    {
     "data": {
      "text/html": [
       "<div>\n",
       "<style scoped>\n",
       "    .dataframe tbody tr th:only-of-type {\n",
       "        vertical-align: middle;\n",
       "    }\n",
       "\n",
       "    .dataframe tbody tr th {\n",
       "        vertical-align: top;\n",
       "    }\n",
       "\n",
       "    .dataframe thead th {\n",
       "        text-align: right;\n",
       "    }\n",
       "</style>\n",
       "<table border=\"1\" class=\"dataframe\">\n",
       "  <thead>\n",
       "    <tr style=\"text-align: right;\">\n",
       "      <th></th>\n",
       "      <th>payment_type_id</th>\n",
       "      <th>internet_service_type_id</th>\n",
       "      <th>contract_type_id</th>\n",
       "      <th>customer_id</th>\n",
       "      <th>gender</th>\n",
       "      <th>senior_citizen</th>\n",
       "      <th>partner</th>\n",
       "      <th>dependents</th>\n",
       "      <th>tenure</th>\n",
       "      <th>phone_service</th>\n",
       "      <th>...</th>\n",
       "      <th>tech_support</th>\n",
       "      <th>streaming_tv</th>\n",
       "      <th>streaming_movies</th>\n",
       "      <th>paperless_billing</th>\n",
       "      <th>monthly_charges</th>\n",
       "      <th>total_charges</th>\n",
       "      <th>churn</th>\n",
       "      <th>contract_type</th>\n",
       "      <th>internet_service_type</th>\n",
       "      <th>payment_type</th>\n",
       "    </tr>\n",
       "  </thead>\n",
       "  <tbody>\n",
       "    <tr>\n",
       "      <th>0</th>\n",
       "      <td>2</td>\n",
       "      <td>1</td>\n",
       "      <td>1</td>\n",
       "      <td>0003-MKNFE</td>\n",
       "      <td>Male</td>\n",
       "      <td>0</td>\n",
       "      <td>No</td>\n",
       "      <td>No</td>\n",
       "      <td>9</td>\n",
       "      <td>Yes</td>\n",
       "      <td>...</td>\n",
       "      <td>No</td>\n",
       "      <td>No</td>\n",
       "      <td>Yes</td>\n",
       "      <td>No</td>\n",
       "      <td>59.9</td>\n",
       "      <td>542.4</td>\n",
       "      <td>No</td>\n",
       "      <td>Month-to-month</td>\n",
       "      <td>DSL</td>\n",
       "      <td>Mailed check</td>\n",
       "    </tr>\n",
       "    <tr>\n",
       "      <th>1</th>\n",
       "      <td>4</td>\n",
       "      <td>1</td>\n",
       "      <td>1</td>\n",
       "      <td>0013-MHZWF</td>\n",
       "      <td>Female</td>\n",
       "      <td>0</td>\n",
       "      <td>No</td>\n",
       "      <td>Yes</td>\n",
       "      <td>9</td>\n",
       "      <td>Yes</td>\n",
       "      <td>...</td>\n",
       "      <td>Yes</td>\n",
       "      <td>Yes</td>\n",
       "      <td>Yes</td>\n",
       "      <td>Yes</td>\n",
       "      <td>69.4</td>\n",
       "      <td>571.45</td>\n",
       "      <td>No</td>\n",
       "      <td>Month-to-month</td>\n",
       "      <td>DSL</td>\n",
       "      <td>Credit card (automatic)</td>\n",
       "    </tr>\n",
       "    <tr>\n",
       "      <th>2</th>\n",
       "      <td>1</td>\n",
       "      <td>1</td>\n",
       "      <td>1</td>\n",
       "      <td>0015-UOCOJ</td>\n",
       "      <td>Female</td>\n",
       "      <td>1</td>\n",
       "      <td>No</td>\n",
       "      <td>No</td>\n",
       "      <td>7</td>\n",
       "      <td>Yes</td>\n",
       "      <td>...</td>\n",
       "      <td>No</td>\n",
       "      <td>No</td>\n",
       "      <td>No</td>\n",
       "      <td>Yes</td>\n",
       "      <td>48.2</td>\n",
       "      <td>340.35</td>\n",
       "      <td>No</td>\n",
       "      <td>Month-to-month</td>\n",
       "      <td>DSL</td>\n",
       "      <td>Electronic check</td>\n",
       "    </tr>\n",
       "  </tbody>\n",
       "</table>\n",
       "<p>3 rows × 24 columns</p>\n",
       "</div>"
      ],
      "text/plain": [
       "   payment_type_id  internet_service_type_id  contract_type_id customer_id  \\\n",
       "0                2                         1                 1  0003-MKNFE   \n",
       "1                4                         1                 1  0013-MHZWF   \n",
       "2                1                         1                 1  0015-UOCOJ   \n",
       "\n",
       "   gender  senior_citizen partner dependents  tenure phone_service  ...  \\\n",
       "0    Male               0      No         No       9           Yes  ...   \n",
       "1  Female               0      No        Yes       9           Yes  ...   \n",
       "2  Female               1      No         No       7           Yes  ...   \n",
       "\n",
       "  tech_support streaming_tv streaming_movies paperless_billing  \\\n",
       "0           No           No              Yes                No   \n",
       "1          Yes          Yes              Yes               Yes   \n",
       "2           No           No               No               Yes   \n",
       "\n",
       "  monthly_charges total_charges churn   contract_type  internet_service_type  \\\n",
       "0            59.9         542.4    No  Month-to-month                    DSL   \n",
       "1            69.4        571.45    No  Month-to-month                    DSL   \n",
       "2            48.2        340.35    No  Month-to-month                    DSL   \n",
       "\n",
       "              payment_type  \n",
       "0             Mailed check  \n",
       "1  Credit card (automatic)  \n",
       "2         Electronic check  \n",
       "\n",
       "[3 rows x 24 columns]"
      ]
     },
     "execution_count": 142,
     "metadata": {},
     "output_type": "execute_result"
    }
   ],
   "source": [
    "#Acquire telco data\n",
    "df = acquire.get_telco_data()\n",
    "df.head(3)"
   ]
  },
  {
   "cell_type": "code",
   "execution_count": 6,
   "metadata": {},
   "outputs": [
    {
     "name": "stdout",
     "output_type": "stream",
     "text": [
      "<class 'pandas.core.frame.DataFrame'>\n",
      "RangeIndex: 7043 entries, 0 to 7042\n",
      "Data columns (total 24 columns):\n",
      " #   Column                    Non-Null Count  Dtype  \n",
      "---  ------                    --------------  -----  \n",
      " 0   payment_type_id           7043 non-null   int64  \n",
      " 1   internet_service_type_id  7043 non-null   int64  \n",
      " 2   contract_type_id          7043 non-null   int64  \n",
      " 3   customer_id               7043 non-null   object \n",
      " 4   gender                    7043 non-null   object \n",
      " 5   senior_citizen            7043 non-null   int64  \n",
      " 6   partner                   7043 non-null   object \n",
      " 7   dependents                7043 non-null   object \n",
      " 8   tenure                    7043 non-null   int64  \n",
      " 9   phone_service             7043 non-null   object \n",
      " 10  multiple_lines            7043 non-null   object \n",
      " 11  online_security           7043 non-null   object \n",
      " 12  online_backup             7043 non-null   object \n",
      " 13  device_protection         7043 non-null   object \n",
      " 14  tech_support              7043 non-null   object \n",
      " 15  streaming_tv              7043 non-null   object \n",
      " 16  streaming_movies          7043 non-null   object \n",
      " 17  paperless_billing         7043 non-null   object \n",
      " 18  monthly_charges           7043 non-null   float64\n",
      " 19  total_charges             7043 non-null   object \n",
      " 20  churn                     7043 non-null   object \n",
      " 21  contract_type             7043 non-null   object \n",
      " 22  internet_service_type     7043 non-null   object \n",
      " 23  payment_type              7043 non-null   object \n",
      "dtypes: float64(1), int64(5), object(18)\n",
      "memory usage: 1.3+ MB\n"
     ]
    }
   ],
   "source": [
    "#Get info  on dataframe to check columns,  data types, and check for any null values\n",
    "df.info()"
   ]
  },
  {
   "cell_type": "code",
   "execution_count": 7,
   "metadata": {},
   "outputs": [
    {
     "data": {
      "text/plain": [
       "payment_type_id             0\n",
       "internet_service_type_id    0\n",
       "contract_type_id            0\n",
       "customer_id                 0\n",
       "gender                      0\n",
       "senior_citizen              0\n",
       "partner                     0\n",
       "dependents                  0\n",
       "tenure                      0\n",
       "phone_service               0\n",
       "multiple_lines              0\n",
       "online_security             0\n",
       "online_backup               0\n",
       "device_protection           0\n",
       "tech_support                0\n",
       "streaming_tv                0\n",
       "streaming_movies            0\n",
       "paperless_billing           0\n",
       "monthly_charges             0\n",
       "total_charges               0\n",
       "churn                       0\n",
       "contract_type               0\n",
       "internet_service_type       0\n",
       "payment_type                0\n",
       "dtype: int64"
      ]
     },
     "execution_count": 7,
     "metadata": {},
     "output_type": "execute_result"
    }
   ],
   "source": [
    "#Check for missing values \n",
    "df.isna().sum()"
   ]
  },
  {
   "cell_type": "code",
   "execution_count": 8,
   "metadata": {},
   "outputs": [
    {
     "data": {
      "text/html": [
       "<div>\n",
       "<style scoped>\n",
       "    .dataframe tbody tr th:only-of-type {\n",
       "        vertical-align: middle;\n",
       "    }\n",
       "\n",
       "    .dataframe tbody tr th {\n",
       "        vertical-align: top;\n",
       "    }\n",
       "\n",
       "    .dataframe thead th {\n",
       "        text-align: right;\n",
       "    }\n",
       "</style>\n",
       "<table border=\"1\" class=\"dataframe\">\n",
       "  <thead>\n",
       "    <tr style=\"text-align: right;\">\n",
       "      <th></th>\n",
       "      <th>count</th>\n",
       "      <th>mean</th>\n",
       "      <th>std</th>\n",
       "      <th>min</th>\n",
       "      <th>25%</th>\n",
       "      <th>50%</th>\n",
       "      <th>75%</th>\n",
       "      <th>max</th>\n",
       "    </tr>\n",
       "  </thead>\n",
       "  <tbody>\n",
       "    <tr>\n",
       "      <th>payment_type_id</th>\n",
       "      <td>7043.0</td>\n",
       "      <td>2.315633</td>\n",
       "      <td>1.148907</td>\n",
       "      <td>1.00</td>\n",
       "      <td>1.0</td>\n",
       "      <td>2.00</td>\n",
       "      <td>3.00</td>\n",
       "      <td>4.00</td>\n",
       "    </tr>\n",
       "    <tr>\n",
       "      <th>internet_service_type_id</th>\n",
       "      <td>7043.0</td>\n",
       "      <td>1.872923</td>\n",
       "      <td>0.737796</td>\n",
       "      <td>1.00</td>\n",
       "      <td>1.0</td>\n",
       "      <td>2.00</td>\n",
       "      <td>2.00</td>\n",
       "      <td>3.00</td>\n",
       "    </tr>\n",
       "    <tr>\n",
       "      <th>contract_type_id</th>\n",
       "      <td>7043.0</td>\n",
       "      <td>1.690473</td>\n",
       "      <td>0.833755</td>\n",
       "      <td>1.00</td>\n",
       "      <td>1.0</td>\n",
       "      <td>1.00</td>\n",
       "      <td>2.00</td>\n",
       "      <td>3.00</td>\n",
       "    </tr>\n",
       "    <tr>\n",
       "      <th>senior_citizen</th>\n",
       "      <td>7043.0</td>\n",
       "      <td>0.162147</td>\n",
       "      <td>0.368612</td>\n",
       "      <td>0.00</td>\n",
       "      <td>0.0</td>\n",
       "      <td>0.00</td>\n",
       "      <td>0.00</td>\n",
       "      <td>1.00</td>\n",
       "    </tr>\n",
       "    <tr>\n",
       "      <th>tenure</th>\n",
       "      <td>7043.0</td>\n",
       "      <td>32.371149</td>\n",
       "      <td>24.559481</td>\n",
       "      <td>0.00</td>\n",
       "      <td>9.0</td>\n",
       "      <td>29.00</td>\n",
       "      <td>55.00</td>\n",
       "      <td>72.00</td>\n",
       "    </tr>\n",
       "    <tr>\n",
       "      <th>monthly_charges</th>\n",
       "      <td>7043.0</td>\n",
       "      <td>64.761692</td>\n",
       "      <td>30.090047</td>\n",
       "      <td>18.25</td>\n",
       "      <td>35.5</td>\n",
       "      <td>70.35</td>\n",
       "      <td>89.85</td>\n",
       "      <td>118.75</td>\n",
       "    </tr>\n",
       "  </tbody>\n",
       "</table>\n",
       "</div>"
      ],
      "text/plain": [
       "                           count       mean        std    min   25%    50%  \\\n",
       "payment_type_id           7043.0   2.315633   1.148907   1.00   1.0   2.00   \n",
       "internet_service_type_id  7043.0   1.872923   0.737796   1.00   1.0   2.00   \n",
       "contract_type_id          7043.0   1.690473   0.833755   1.00   1.0   1.00   \n",
       "senior_citizen            7043.0   0.162147   0.368612   0.00   0.0   0.00   \n",
       "tenure                    7043.0  32.371149  24.559481   0.00   9.0  29.00   \n",
       "monthly_charges           7043.0  64.761692  30.090047  18.25  35.5  70.35   \n",
       "\n",
       "                            75%     max  \n",
       "payment_type_id            3.00    4.00  \n",
       "internet_service_type_id   2.00    3.00  \n",
       "contract_type_id           2.00    3.00  \n",
       "senior_citizen             0.00    1.00  \n",
       "tenure                    55.00   72.00  \n",
       "monthly_charges           89.85  118.75  "
      ]
     },
     "execution_count": 8,
     "metadata": {},
     "output_type": "execute_result"
    }
   ],
   "source": [
    "#Summary statistics for each of the numeric values \n",
    "df.describe().T"
   ]
  },
  {
   "cell_type": "code",
   "execution_count": 9,
   "metadata": {},
   "outputs": [
    {
     "data": {
      "text/plain": [
       "(7043, 24)"
      ]
     },
     "execution_count": 9,
     "metadata": {},
     "output_type": "execute_result"
    }
   ],
   "source": [
    "#Print number of rows and columns\n",
    "df.shape"
   ]
  },
  {
   "cell_type": "code",
   "execution_count": 10,
   "metadata": {},
   "outputs": [
    {
     "data": {
      "text/plain": [
       "Index(['payment_type_id', 'internet_service_type_id', 'contract_type_id',\n",
       "       'customer_id', 'gender', 'senior_citizen', 'partner', 'dependents',\n",
       "       'tenure', 'phone_service', 'multiple_lines', 'online_security',\n",
       "       'online_backup', 'device_protection', 'tech_support', 'streaming_tv',\n",
       "       'streaming_movies', 'paperless_billing', 'monthly_charges',\n",
       "       'total_charges', 'churn', 'contract_type', 'internet_service_type',\n",
       "       'payment_type'],\n",
       "      dtype='object')"
      ]
     },
     "execution_count": 10,
     "metadata": {},
     "output_type": "execute_result"
    }
   ],
   "source": [
    "#Print names of columns\n",
    "df.columns"
   ]
  },
  {
   "cell_type": "code",
   "execution_count": 11,
   "metadata": {},
   "outputs": [
    {
     "data": {
      "image/png": "[encoded data removed]",
      "text/plain": [
       "<Figure size 432x288 with 1 Axes>"
      ]
     },
     "metadata": {
      "needs_background": "light"
     },
     "output_type": "display_data"
    }
   ],
   "source": [
    "#Plot distributions of individual variables\n",
    "df['tenure'].hist(color='blue')\n",
    "plt.title('Distribution of Telco Tenure')\n",
    "plt.show()"
   ]
  },
  {
   "cell_type": "code",
   "execution_count": 143,
   "metadata": {},
   "outputs": [
    {
     "data": {
      "image/png": "[encoded data removed]",
      "text/plain": [
       "<Figure size 432x288 with 1 Axes>"
      ]
     },
     "metadata": {
      "needs_background": "light"
     },
     "output_type": "display_data"
    }
   ],
   "source": [
    "df['monthly_charges'].hist(color='green')\n",
    "\n",
    "plt.title('Distribution of Monthly Charges at Telco')\n",
    "plt.show()"
   ]
  },
  {
   "cell_type": "markdown",
   "metadata": {},
   "source": [
    "### Findings\n",
    "- Most columns that are strings/objects need to be converted to numerical variables for data exploration and modeling\n",
    "- Some columns have \"yes/no/no ___ service\" variables which can be reduced to only \"yes/no\" and encoded\n",
    "- Tenure is highest at the start of service\n",
    "- Many customers pay around $20-30 monthly"
   ]
  },
  {
   "cell_type": "markdown",
   "metadata": {},
   "source": [
    "# Data Preparation\n",
    "- Use functions from prepare.py module to:\n",
    "    - Split data into train/validate/test\n",
    "    - Handle missing values\n",
    "    - Encode variables\n",
    "   \n"
   ]
  },
  {
   "cell_type": "markdown",
   "metadata": {},
   "source": [
    "### Initial Cleanup"
   ]
  },
  {
   "cell_type": "code",
   "execution_count": 12,
   "metadata": {},
   "outputs": [
    {
     "data": {
      "text/plain": [
       "0"
      ]
     },
     "execution_count": 12,
     "metadata": {},
     "output_type": "execute_result"
    }
   ],
   "source": [
    "#check for duplicates\n",
    "df.duplicated().sum()"
   ]
  },
  {
   "cell_type": "code",
   "execution_count": 13,
   "metadata": {},
   "outputs": [],
   "source": [
    "#set customer_id as first column\n",
    "df = df.set_index('customer_id')"
   ]
  },
  {
   "cell_type": "code",
   "execution_count": 14,
   "metadata": {},
   "outputs": [],
   "source": [
    "#shorten column names for readability: \n",
    "df = df.rename(columns={\"payment_type_id\": \"payment_type\", \n",
    "                        \"internet_service_type_id\": \"internet_type\",\n",
    "                        \"contract_type_id\": \"contract\",\n",
    "                        \"senior_citizen\": \"senior\", \n",
    "                        \"phone_service\": \"phone\", \n",
    "                        #set up payment_type column for encoding:\n",
    "                        \"payment_type\": \"auto_pay\"})"
   ]
  },
  {
   "cell_type": "markdown",
   "metadata": {},
   "source": [
    "### Encode columns with \"\"yes\"/\"no\"/\"no __ service\" and change to numeric variables"
   ]
  },
  {
   "cell_type": "code",
   "execution_count": 15,
   "metadata": {},
   "outputs": [],
   "source": [
    "#yes/no columns only\n",
    "df.partner = df.partner.map({'No': 0, 'Yes': 1})\n",
    "df.dependents = df.dependents.map({'No': 0, 'Yes': 1})\n",
    "df.phone = df.phone.map({'No': 0, 'Yes': 1})\n",
    "df.paperless_billing = df.paperless_billing.map({'No': 0, 'Yes': 1})\n",
    "df.churn = df.churn.map({'No': 0, 'Yes': 1})\n",
    "\n",
    "#yes/no/no___ columns (replace \"no ___ service\" with \"no\" before encoding)\n",
    "df.multiple_lines = df.multiple_lines.replace('No Phone Service', 'No')\n",
    "df.multiple_lines = df.multiple_lines.map({'No': 0, 'Yes': 1})\n",
    "\n",
    "df.online_security = df.online_security.replace('No internet Service', 'No')\n",
    "df.online_security = df.online_security.map({'No': 0, 'Yes': 1})\n",
    "\n",
    "df.online_backup = df.online_backup.replace('No internet Service', 'No')\n",
    "df.online_backup = df.online_backup.map({'No': 0, 'Yes': 1})\n",
    "\n",
    "df.device_protection = df.device_protection.replace('No internet service', 'No')\n",
    "df.device_protection = df.device_protection.map({'No': 0, 'Yes': 1})\n",
    "\n",
    "df.tech_support = df.tech_support.replace('No internet service', 'No')\n",
    "df.tech_support = df.tech_support.map({'No': 0, 'Yes': 1})\n",
    "\n",
    "df.streaming_tv = df.streaming_tv.replace('No internet service', 'No')\n",
    "df.streaming_tv = df.streaming_tv.map({'No': 0, 'Yes': 1})\n",
    "\n",
    "df.streaming_movies = df.streaming_movies.replace('No internet service', 'No')\n",
    "df.streaming_movies = df.streaming_movies.map({'No': 0, 'Yes': 1})"
   ]
  },
  {
   "cell_type": "code",
   "execution_count": 16,
   "metadata": {},
   "outputs": [
    {
     "data": {
      "text/plain": [
       "payment_type               int64\n",
       "internet_type              int64\n",
       "contract                   int64\n",
       "gender                    object\n",
       "senior                     int64\n",
       "partner                    int64\n",
       "dependents                 int64\n",
       "tenure                     int64\n",
       "phone                      int64\n",
       "multiple_lines           float64\n",
       "online_security          float64\n",
       "online_backup            float64\n",
       "device_protection          int64\n",
       "tech_support               int64\n",
       "streaming_tv               int64\n",
       "streaming_movies           int64\n",
       "paperless_billing          int64\n",
       "monthly_charges          float64\n",
       "total_charges             object\n",
       "churn                      int64\n",
       "contract_type             object\n",
       "internet_service_type     object\n",
       "auto_pay                  object\n",
       "dtype: object"
      ]
     },
     "execution_count": 16,
     "metadata": {},
     "output_type": "execute_result"
    }
   ],
   "source": [
    "#Print data type for each column\n",
    "df.dtypes"
   ]
  },
  {
   "cell_type": "code",
   "execution_count": 146,
   "metadata": {},
   "outputs": [],
   "source": [
    "#Total charges appears to be an object when it should be a float. \n",
    "df.total_charges = pd.to_numeric(df.total_charges, errors = 'coerce')"
   ]
  },
  {
   "cell_type": "code",
   "execution_count": 18,
   "metadata": {
    "scrolled": true
   },
   "outputs": [
    {
     "data": {
      "text/plain": [
       "payment_type                0\n",
       "internet_type               0\n",
       "contract                    0\n",
       "gender                      0\n",
       "senior                      0\n",
       "partner                     0\n",
       "dependents                  0\n",
       "tenure                      0\n",
       "phone                       0\n",
       "multiple_lines            682\n",
       "online_security          1526\n",
       "online_backup            1526\n",
       "device_protection           0\n",
       "tech_support                0\n",
       "streaming_tv                0\n",
       "streaming_movies            0\n",
       "paperless_billing           0\n",
       "monthly_charges             0\n",
       "total_charges              11\n",
       "churn                       0\n",
       "contract_type               0\n",
       "internet_service_type       0\n",
       "auto_pay                    0\n",
       "dtype: int64"
      ]
     },
     "execution_count": 18,
     "metadata": {},
     "output_type": "execute_result"
    }
   ],
   "source": [
    "#Customers with 0 tenure have NaN for total charges\n",
    "#Let's get a sum of these missing values \n",
    "df.isnull().sum()"
   ]
  },
  {
   "cell_type": "code",
   "execution_count": 19,
   "metadata": {},
   "outputs": [],
   "source": [
    "#Replace missing values with 0. If tenure is 0, replace Total_Charges with 0. \n",
    "df.total_charges = df.total_charges.where((df.tenure != 0), 0)"
   ]
  },
  {
   "cell_type": "code",
   "execution_count": 20,
   "metadata": {},
   "outputs": [
    {
     "data": {
      "text/plain": [
       "payment_type                0\n",
       "internet_type               0\n",
       "contract                    0\n",
       "gender                      0\n",
       "senior                      0\n",
       "partner                     0\n",
       "dependents                  0\n",
       "tenure                      0\n",
       "phone                       0\n",
       "multiple_lines            682\n",
       "online_security          1526\n",
       "online_backup            1526\n",
       "device_protection           0\n",
       "tech_support                0\n",
       "streaming_tv                0\n",
       "streaming_movies            0\n",
       "paperless_billing           0\n",
       "monthly_charges             0\n",
       "total_charges               0\n",
       "churn                       0\n",
       "contract_type               0\n",
       "internet_service_type       0\n",
       "auto_pay                    0\n",
       "dtype: int64"
      ]
     },
     "execution_count": 20,
     "metadata": {},
     "output_type": "execute_result"
    }
   ],
   "source": [
    "#Check to see changes were made\n",
    "df.isnull().sum()"
   ]
  },
  {
   "cell_type": "code",
   "execution_count": 21,
   "metadata": {},
   "outputs": [
    {
     "data": {
      "text/html": [
       "<div>\n",
       "<style scoped>\n",
       "    .dataframe tbody tr th:only-of-type {\n",
       "        vertical-align: middle;\n",
       "    }\n",
       "\n",
       "    .dataframe tbody tr th {\n",
       "        vertical-align: top;\n",
       "    }\n",
       "\n",
       "    .dataframe thead th {\n",
       "        text-align: right;\n",
       "    }\n",
       "</style>\n",
       "<table border=\"1\" class=\"dataframe\">\n",
       "  <thead>\n",
       "    <tr style=\"text-align: right;\">\n",
       "      <th></th>\n",
       "      <th>gender_Male</th>\n",
       "    </tr>\n",
       "    <tr>\n",
       "      <th>customer_id</th>\n",
       "      <th></th>\n",
       "    </tr>\n",
       "  </thead>\n",
       "  <tbody>\n",
       "    <tr>\n",
       "      <th>0003-MKNFE</th>\n",
       "      <td>1</td>\n",
       "    </tr>\n",
       "    <tr>\n",
       "      <th>0013-MHZWF</th>\n",
       "      <td>0</td>\n",
       "    </tr>\n",
       "    <tr>\n",
       "      <th>0015-UOCOJ</th>\n",
       "      <td>0</td>\n",
       "    </tr>\n",
       "    <tr>\n",
       "      <th>0023-HGHWL</th>\n",
       "      <td>1</td>\n",
       "    </tr>\n",
       "    <tr>\n",
       "      <th>0032-PGELS</th>\n",
       "      <td>0</td>\n",
       "    </tr>\n",
       "  </tbody>\n",
       "</table>\n",
       "</div>"
      ],
      "text/plain": [
       "             gender_Male\n",
       "customer_id             \n",
       "0003-MKNFE             1\n",
       "0013-MHZWF             0\n",
       "0015-UOCOJ             0\n",
       "0023-HGHWL             1\n",
       "0032-PGELS             0"
      ]
     },
     "execution_count": 21,
     "metadata": {},
     "output_type": "execute_result"
    }
   ],
   "source": [
    "# Creating dummy variables of gender\n",
    "# Creates a data frame of gender dummy variables with male == 1 and female == 0\n",
    "dummies = pd.get_dummies(df[['gender']], drop_first=True)\n",
    "dummies.head()"
   ]
  },
  {
   "cell_type": "code",
   "execution_count": 22,
   "metadata": {
    "scrolled": true
   },
   "outputs": [
    {
     "data": {
      "text/html": [
       "<div>\n",
       "<style scoped>\n",
       "    .dataframe tbody tr th:only-of-type {\n",
       "        vertical-align: middle;\n",
       "    }\n",
       "\n",
       "    .dataframe tbody tr th {\n",
       "        vertical-align: top;\n",
       "    }\n",
       "\n",
       "    .dataframe thead th {\n",
       "        text-align: right;\n",
       "    }\n",
       "</style>\n",
       "<table border=\"1\" class=\"dataframe\">\n",
       "  <thead>\n",
       "    <tr style=\"text-align: right;\">\n",
       "      <th></th>\n",
       "      <th>payment_type</th>\n",
       "      <th>internet_type</th>\n",
       "      <th>contract</th>\n",
       "      <th>gender</th>\n",
       "      <th>senior</th>\n",
       "      <th>partner</th>\n",
       "      <th>dependents</th>\n",
       "      <th>tenure</th>\n",
       "      <th>phone</th>\n",
       "      <th>multiple_lines</th>\n",
       "      <th>...</th>\n",
       "      <th>streaming_tv</th>\n",
       "      <th>streaming_movies</th>\n",
       "      <th>paperless_billing</th>\n",
       "      <th>monthly_charges</th>\n",
       "      <th>total_charges</th>\n",
       "      <th>churn</th>\n",
       "      <th>contract_type</th>\n",
       "      <th>internet_service_type</th>\n",
       "      <th>auto_pay</th>\n",
       "      <th>gender_Male</th>\n",
       "    </tr>\n",
       "    <tr>\n",
       "      <th>customer_id</th>\n",
       "      <th></th>\n",
       "      <th></th>\n",
       "      <th></th>\n",
       "      <th></th>\n",
       "      <th></th>\n",
       "      <th></th>\n",
       "      <th></th>\n",
       "      <th></th>\n",
       "      <th></th>\n",
       "      <th></th>\n",
       "      <th></th>\n",
       "      <th></th>\n",
       "      <th></th>\n",
       "      <th></th>\n",
       "      <th></th>\n",
       "      <th></th>\n",
       "      <th></th>\n",
       "      <th></th>\n",
       "      <th></th>\n",
       "      <th></th>\n",
       "      <th></th>\n",
       "    </tr>\n",
       "  </thead>\n",
       "  <tbody>\n",
       "    <tr>\n",
       "      <th>0003-MKNFE</th>\n",
       "      <td>2</td>\n",
       "      <td>1</td>\n",
       "      <td>1</td>\n",
       "      <td>Male</td>\n",
       "      <td>0</td>\n",
       "      <td>0</td>\n",
       "      <td>0</td>\n",
       "      <td>9</td>\n",
       "      <td>1</td>\n",
       "      <td>1.0</td>\n",
       "      <td>...</td>\n",
       "      <td>0</td>\n",
       "      <td>1</td>\n",
       "      <td>0</td>\n",
       "      <td>59.9</td>\n",
       "      <td>542.40</td>\n",
       "      <td>0</td>\n",
       "      <td>Month-to-month</td>\n",
       "      <td>DSL</td>\n",
       "      <td>Mailed check</td>\n",
       "      <td>1</td>\n",
       "    </tr>\n",
       "    <tr>\n",
       "      <th>0013-MHZWF</th>\n",
       "      <td>4</td>\n",
       "      <td>1</td>\n",
       "      <td>1</td>\n",
       "      <td>Female</td>\n",
       "      <td>0</td>\n",
       "      <td>0</td>\n",
       "      <td>1</td>\n",
       "      <td>9</td>\n",
       "      <td>1</td>\n",
       "      <td>0.0</td>\n",
       "      <td>...</td>\n",
       "      <td>1</td>\n",
       "      <td>1</td>\n",
       "      <td>1</td>\n",
       "      <td>69.4</td>\n",
       "      <td>571.45</td>\n",
       "      <td>0</td>\n",
       "      <td>Month-to-month</td>\n",
       "      <td>DSL</td>\n",
       "      <td>Credit card (automatic)</td>\n",
       "      <td>0</td>\n",
       "    </tr>\n",
       "    <tr>\n",
       "      <th>0015-UOCOJ</th>\n",
       "      <td>1</td>\n",
       "      <td>1</td>\n",
       "      <td>1</td>\n",
       "      <td>Female</td>\n",
       "      <td>1</td>\n",
       "      <td>0</td>\n",
       "      <td>0</td>\n",
       "      <td>7</td>\n",
       "      <td>1</td>\n",
       "      <td>0.0</td>\n",
       "      <td>...</td>\n",
       "      <td>0</td>\n",
       "      <td>0</td>\n",
       "      <td>1</td>\n",
       "      <td>48.2</td>\n",
       "      <td>340.35</td>\n",
       "      <td>0</td>\n",
       "      <td>Month-to-month</td>\n",
       "      <td>DSL</td>\n",
       "      <td>Electronic check</td>\n",
       "      <td>0</td>\n",
       "    </tr>\n",
       "    <tr>\n",
       "      <th>0023-HGHWL</th>\n",
       "      <td>1</td>\n",
       "      <td>1</td>\n",
       "      <td>1</td>\n",
       "      <td>Male</td>\n",
       "      <td>1</td>\n",
       "      <td>0</td>\n",
       "      <td>0</td>\n",
       "      <td>1</td>\n",
       "      <td>0</td>\n",
       "      <td>NaN</td>\n",
       "      <td>...</td>\n",
       "      <td>0</td>\n",
       "      <td>0</td>\n",
       "      <td>1</td>\n",
       "      <td>25.1</td>\n",
       "      <td>25.10</td>\n",
       "      <td>1</td>\n",
       "      <td>Month-to-month</td>\n",
       "      <td>DSL</td>\n",
       "      <td>Electronic check</td>\n",
       "      <td>1</td>\n",
       "    </tr>\n",
       "    <tr>\n",
       "      <th>0032-PGELS</th>\n",
       "      <td>3</td>\n",
       "      <td>1</td>\n",
       "      <td>1</td>\n",
       "      <td>Female</td>\n",
       "      <td>0</td>\n",
       "      <td>1</td>\n",
       "      <td>1</td>\n",
       "      <td>1</td>\n",
       "      <td>0</td>\n",
       "      <td>NaN</td>\n",
       "      <td>...</td>\n",
       "      <td>0</td>\n",
       "      <td>0</td>\n",
       "      <td>0</td>\n",
       "      <td>30.5</td>\n",
       "      <td>30.50</td>\n",
       "      <td>1</td>\n",
       "      <td>Month-to-month</td>\n",
       "      <td>DSL</td>\n",
       "      <td>Bank transfer (automatic)</td>\n",
       "      <td>0</td>\n",
       "    </tr>\n",
       "  </tbody>\n",
       "</table>\n",
       "<p>5 rows × 24 columns</p>\n",
       "</div>"
      ],
      "text/plain": [
       "             payment_type  internet_type  contract  gender  senior  partner  \\\n",
       "customer_id                                                                   \n",
       "0003-MKNFE              2              1         1    Male       0        0   \n",
       "0013-MHZWF              4              1         1  Female       0        0   \n",
       "0015-UOCOJ              1              1         1  Female       1        0   \n",
       "0023-HGHWL              1              1         1    Male       1        0   \n",
       "0032-PGELS              3              1         1  Female       0        1   \n",
       "\n",
       "             dependents  tenure  phone  multiple_lines  ...  streaming_tv  \\\n",
       "customer_id                                             ...                 \n",
       "0003-MKNFE            0       9      1             1.0  ...             0   \n",
       "0013-MHZWF            1       9      1             0.0  ...             1   \n",
       "0015-UOCOJ            0       7      1             0.0  ...             0   \n",
       "0023-HGHWL            0       1      0             NaN  ...             0   \n",
       "0032-PGELS            1       1      0             NaN  ...             0   \n",
       "\n",
       "             streaming_movies  paperless_billing  monthly_charges  \\\n",
       "customer_id                                                         \n",
       "0003-MKNFE                  1                  0             59.9   \n",
       "0013-MHZWF                  1                  1             69.4   \n",
       "0015-UOCOJ                  0                  1             48.2   \n",
       "0023-HGHWL                  0                  1             25.1   \n",
       "0032-PGELS                  0                  0             30.5   \n",
       "\n",
       "             total_charges  churn   contract_type  internet_service_type  \\\n",
       "customer_id                                                                \n",
       "0003-MKNFE          542.40      0  Month-to-month                    DSL   \n",
       "0013-MHZWF          571.45      0  Month-to-month                    DSL   \n",
       "0015-UOCOJ          340.35      0  Month-to-month                    DSL   \n",
       "0023-HGHWL           25.10      1  Month-to-month                    DSL   \n",
       "0032-PGELS           30.50      1  Month-to-month                    DSL   \n",
       "\n",
       "                              auto_pay  gender_Male  \n",
       "customer_id                                          \n",
       "0003-MKNFE                Mailed check            1  \n",
       "0013-MHZWF     Credit card (automatic)            0  \n",
       "0015-UOCOJ            Electronic check            0  \n",
       "0023-HGHWL            Electronic check            1  \n",
       "0032-PGELS   Bank transfer (automatic)            0  \n",
       "\n",
       "[5 rows x 24 columns]"
      ]
     },
     "execution_count": 22,
     "metadata": {},
     "output_type": "execute_result"
    }
   ],
   "source": [
    "# Add dummies to the original df\n",
    "df = pd.concat([df,dummies], axis=1)\n",
    "df.head()"
   ]
  },
  {
   "cell_type": "code",
   "execution_count": 23,
   "metadata": {},
   "outputs": [],
   "source": [
    "#adjust the new values for `contract_type` to be: \n",
    "    #0 = Month-to-Month\n",
    "    #1 = One year\n",
    "    #2 = Two Year\n",
    "df.contract_type = df.contract_type.replace({'Month-to-month': 0, \n",
    "                                             'One year': 1, \n",
    "                                             'Two year': 2})"
   ]
  },
  {
   "cell_type": "code",
   "execution_count": 24,
   "metadata": {},
   "outputs": [],
   "source": [
    "#adjust the new values for `internet_service_type` to be: \n",
    "    #0 = None\n",
    "    #1 = DSL\n",
    "    #2 = Fiber Optic\n",
    "df.internet_service_type = df.internet_service_type.replace({'None': 0, \n",
    "                                                             'DSL': 1, \n",
    "                                                             'Fiber optic': 2})"
   ]
  },
  {
   "cell_type": "code",
   "execution_count": 25,
   "metadata": {},
   "outputs": [],
   "source": [
    "#move payment_type column to auto_pay and adjust the new values to be: \n",
    "    #0 = Electronic check and Mailed check\n",
    "    #1 = Bank transfer (automatic) and Credit card (automatic)\n",
    "df.auto_pay = df.auto_pay.replace({'Electronic check': 0, \n",
    "                                   'Mailed check': 0, \n",
    "                                   'Bank transfer (automatic)': 1, \n",
    "                                   'Credit card (automatic)': 1})"
   ]
  },
  {
   "cell_type": "code",
   "execution_count": 26,
   "metadata": {},
   "outputs": [],
   "source": [
    "#combine/create new features\n",
    "df['streaming_services'] = df['streaming_tv'] + df['streaming_movies']\n",
    "df['add_ons'] = df['online_security'] + df['online_backup'] + df['device_protection'] + df['tech_support']  "
   ]
  },
  {
   "cell_type": "code",
   "execution_count": 27,
   "metadata": {},
   "outputs": [
    {
     "data": {
      "text/html": [
       "<div>\n",
       "<style scoped>\n",
       "    .dataframe tbody tr th:only-of-type {\n",
       "        vertical-align: middle;\n",
       "    }\n",
       "\n",
       "    .dataframe tbody tr th {\n",
       "        vertical-align: top;\n",
       "    }\n",
       "\n",
       "    .dataframe thead th {\n",
       "        text-align: right;\n",
       "    }\n",
       "</style>\n",
       "<table border=\"1\" class=\"dataframe\">\n",
       "  <thead>\n",
       "    <tr style=\"text-align: right;\">\n",
       "      <th></th>\n",
       "      <th>senior</th>\n",
       "      <th>partner</th>\n",
       "      <th>dependents</th>\n",
       "      <th>tenure</th>\n",
       "      <th>phone</th>\n",
       "      <th>multiple_lines</th>\n",
       "      <th>online_security</th>\n",
       "      <th>online_backup</th>\n",
       "      <th>device_protection</th>\n",
       "      <th>tech_support</th>\n",
       "      <th>...</th>\n",
       "      <th>paperless_billing</th>\n",
       "      <th>monthly_charges</th>\n",
       "      <th>total_charges</th>\n",
       "      <th>churn</th>\n",
       "      <th>contract_type</th>\n",
       "      <th>internet_service_type</th>\n",
       "      <th>auto_pay</th>\n",
       "      <th>gender_Male</th>\n",
       "      <th>streaming_services</th>\n",
       "      <th>add_ons</th>\n",
       "    </tr>\n",
       "    <tr>\n",
       "      <th>customer_id</th>\n",
       "      <th></th>\n",
       "      <th></th>\n",
       "      <th></th>\n",
       "      <th></th>\n",
       "      <th></th>\n",
       "      <th></th>\n",
       "      <th></th>\n",
       "      <th></th>\n",
       "      <th></th>\n",
       "      <th></th>\n",
       "      <th></th>\n",
       "      <th></th>\n",
       "      <th></th>\n",
       "      <th></th>\n",
       "      <th></th>\n",
       "      <th></th>\n",
       "      <th></th>\n",
       "      <th></th>\n",
       "      <th></th>\n",
       "      <th></th>\n",
       "      <th></th>\n",
       "    </tr>\n",
       "  </thead>\n",
       "  <tbody>\n",
       "    <tr>\n",
       "      <th>0003-MKNFE</th>\n",
       "      <td>0</td>\n",
       "      <td>0</td>\n",
       "      <td>0</td>\n",
       "      <td>9</td>\n",
       "      <td>1</td>\n",
       "      <td>1.0</td>\n",
       "      <td>0.0</td>\n",
       "      <td>0.0</td>\n",
       "      <td>0</td>\n",
       "      <td>0</td>\n",
       "      <td>...</td>\n",
       "      <td>0</td>\n",
       "      <td>59.9</td>\n",
       "      <td>542.40</td>\n",
       "      <td>0</td>\n",
       "      <td>0</td>\n",
       "      <td>1</td>\n",
       "      <td>0</td>\n",
       "      <td>1</td>\n",
       "      <td>1</td>\n",
       "      <td>0.0</td>\n",
       "    </tr>\n",
       "    <tr>\n",
       "      <th>0013-MHZWF</th>\n",
       "      <td>0</td>\n",
       "      <td>0</td>\n",
       "      <td>1</td>\n",
       "      <td>9</td>\n",
       "      <td>1</td>\n",
       "      <td>0.0</td>\n",
       "      <td>0.0</td>\n",
       "      <td>0.0</td>\n",
       "      <td>0</td>\n",
       "      <td>1</td>\n",
       "      <td>...</td>\n",
       "      <td>1</td>\n",
       "      <td>69.4</td>\n",
       "      <td>571.45</td>\n",
       "      <td>0</td>\n",
       "      <td>0</td>\n",
       "      <td>1</td>\n",
       "      <td>1</td>\n",
       "      <td>0</td>\n",
       "      <td>2</td>\n",
       "      <td>1.0</td>\n",
       "    </tr>\n",
       "    <tr>\n",
       "      <th>0015-UOCOJ</th>\n",
       "      <td>1</td>\n",
       "      <td>0</td>\n",
       "      <td>0</td>\n",
       "      <td>7</td>\n",
       "      <td>1</td>\n",
       "      <td>0.0</td>\n",
       "      <td>1.0</td>\n",
       "      <td>0.0</td>\n",
       "      <td>0</td>\n",
       "      <td>0</td>\n",
       "      <td>...</td>\n",
       "      <td>1</td>\n",
       "      <td>48.2</td>\n",
       "      <td>340.35</td>\n",
       "      <td>0</td>\n",
       "      <td>0</td>\n",
       "      <td>1</td>\n",
       "      <td>0</td>\n",
       "      <td>0</td>\n",
       "      <td>0</td>\n",
       "      <td>1.0</td>\n",
       "    </tr>\n",
       "    <tr>\n",
       "      <th>0023-HGHWL</th>\n",
       "      <td>1</td>\n",
       "      <td>0</td>\n",
       "      <td>0</td>\n",
       "      <td>1</td>\n",
       "      <td>0</td>\n",
       "      <td>NaN</td>\n",
       "      <td>0.0</td>\n",
       "      <td>0.0</td>\n",
       "      <td>0</td>\n",
       "      <td>0</td>\n",
       "      <td>...</td>\n",
       "      <td>1</td>\n",
       "      <td>25.1</td>\n",
       "      <td>25.10</td>\n",
       "      <td>1</td>\n",
       "      <td>0</td>\n",
       "      <td>1</td>\n",
       "      <td>0</td>\n",
       "      <td>1</td>\n",
       "      <td>0</td>\n",
       "      <td>0.0</td>\n",
       "    </tr>\n",
       "    <tr>\n",
       "      <th>0032-PGELS</th>\n",
       "      <td>0</td>\n",
       "      <td>1</td>\n",
       "      <td>1</td>\n",
       "      <td>1</td>\n",
       "      <td>0</td>\n",
       "      <td>NaN</td>\n",
       "      <td>1.0</td>\n",
       "      <td>0.0</td>\n",
       "      <td>0</td>\n",
       "      <td>0</td>\n",
       "      <td>...</td>\n",
       "      <td>0</td>\n",
       "      <td>30.5</td>\n",
       "      <td>30.50</td>\n",
       "      <td>1</td>\n",
       "      <td>0</td>\n",
       "      <td>1</td>\n",
       "      <td>1</td>\n",
       "      <td>0</td>\n",
       "      <td>0</td>\n",
       "      <td>1.0</td>\n",
       "    </tr>\n",
       "  </tbody>\n",
       "</table>\n",
       "<p>5 rows × 22 columns</p>\n",
       "</div>"
      ],
      "text/plain": [
       "             senior  partner  dependents  tenure  phone  multiple_lines  \\\n",
       "customer_id                                                               \n",
       "0003-MKNFE        0        0           0       9      1             1.0   \n",
       "0013-MHZWF        0        0           1       9      1             0.0   \n",
       "0015-UOCOJ        1        0           0       7      1             0.0   \n",
       "0023-HGHWL        1        0           0       1      0             NaN   \n",
       "0032-PGELS        0        1           1       1      0             NaN   \n",
       "\n",
       "             online_security  online_backup  device_protection  tech_support  \\\n",
       "customer_id                                                                    \n",
       "0003-MKNFE               0.0            0.0                  0             0   \n",
       "0013-MHZWF               0.0            0.0                  0             1   \n",
       "0015-UOCOJ               1.0            0.0                  0             0   \n",
       "0023-HGHWL               0.0            0.0                  0             0   \n",
       "0032-PGELS               1.0            0.0                  0             0   \n",
       "\n",
       "             ...  paperless_billing  monthly_charges  total_charges  churn  \\\n",
       "customer_id  ...                                                             \n",
       "0003-MKNFE   ...                  0             59.9         542.40      0   \n",
       "0013-MHZWF   ...                  1             69.4         571.45      0   \n",
       "0015-UOCOJ   ...                  1             48.2         340.35      0   \n",
       "0023-HGHWL   ...                  1             25.1          25.10      1   \n",
       "0032-PGELS   ...                  0             30.5          30.50      1   \n",
       "\n",
       "             contract_type  internet_service_type  auto_pay  gender_Male  \\\n",
       "customer_id                                                                \n",
       "0003-MKNFE               0                      1         0            1   \n",
       "0013-MHZWF               0                      1         1            0   \n",
       "0015-UOCOJ               0                      1         0            0   \n",
       "0023-HGHWL               0                      1         0            1   \n",
       "0032-PGELS               0                      1         1            0   \n",
       "\n",
       "             streaming_services  add_ons  \n",
       "customer_id                               \n",
       "0003-MKNFE                    1      0.0  \n",
       "0013-MHZWF                    2      1.0  \n",
       "0015-UOCOJ                    0      1.0  \n",
       "0023-HGHWL                    0      0.0  \n",
       "0032-PGELS                    0      1.0  \n",
       "\n",
       "[5 rows x 22 columns]"
      ]
     },
     "execution_count": 27,
     "metadata": {},
     "output_type": "execute_result"
    }
   ],
   "source": [
    "df = df.drop(columns=['payment_type', 'internet_type', 'contract', 'gender'])\n",
    "df.head()"
   ]
  },
  {
   "cell_type": "code",
   "execution_count": 28,
   "metadata": {},
   "outputs": [],
   "source": [
    "#`fillna` to fill missing numbers\n",
    "df = df.fillna(0)"
   ]
  },
  {
   "cell_type": "code",
   "execution_count": 29,
   "metadata": {},
   "outputs": [],
   "source": [
    "#dtypes show multiple lines, online security, and online backup as floats\n",
    "#setting floats to integers\n",
    "df.multiple_lines = df.multiple_lines.astype(int)\n",
    "df.online_security = df.online_security.astype(int)\n",
    "df.online_backup = df.online_backup.astype(int)"
   ]
  },
  {
   "cell_type": "code",
   "execution_count": 30,
   "metadata": {},
   "outputs": [
    {
     "data": {
      "text/html": [
       "<div>\n",
       "<style scoped>\n",
       "    .dataframe tbody tr th:only-of-type {\n",
       "        vertical-align: middle;\n",
       "    }\n",
       "\n",
       "    .dataframe tbody tr th {\n",
       "        vertical-align: top;\n",
       "    }\n",
       "\n",
       "    .dataframe thead th {\n",
       "        text-align: right;\n",
       "    }\n",
       "</style>\n",
       "<table border=\"1\" class=\"dataframe\">\n",
       "  <thead>\n",
       "    <tr style=\"text-align: right;\">\n",
       "      <th></th>\n",
       "      <th>senior</th>\n",
       "      <th>partner</th>\n",
       "      <th>dependents</th>\n",
       "      <th>tenure</th>\n",
       "      <th>phone</th>\n",
       "      <th>multiple_lines</th>\n",
       "      <th>online_security</th>\n",
       "      <th>online_backup</th>\n",
       "      <th>device_protection</th>\n",
       "      <th>tech_support</th>\n",
       "      <th>...</th>\n",
       "      <th>paperless_billing</th>\n",
       "      <th>monthly_charges</th>\n",
       "      <th>total_charges</th>\n",
       "      <th>churn</th>\n",
       "      <th>contract_type</th>\n",
       "      <th>internet_service_type</th>\n",
       "      <th>auto_pay</th>\n",
       "      <th>gender_Male</th>\n",
       "      <th>streaming_services</th>\n",
       "      <th>add_ons</th>\n",
       "    </tr>\n",
       "    <tr>\n",
       "      <th>customer_id</th>\n",
       "      <th></th>\n",
       "      <th></th>\n",
       "      <th></th>\n",
       "      <th></th>\n",
       "      <th></th>\n",
       "      <th></th>\n",
       "      <th></th>\n",
       "      <th></th>\n",
       "      <th></th>\n",
       "      <th></th>\n",
       "      <th></th>\n",
       "      <th></th>\n",
       "      <th></th>\n",
       "      <th></th>\n",
       "      <th></th>\n",
       "      <th></th>\n",
       "      <th></th>\n",
       "      <th></th>\n",
       "      <th></th>\n",
       "      <th></th>\n",
       "      <th></th>\n",
       "    </tr>\n",
       "  </thead>\n",
       "  <tbody>\n",
       "    <tr>\n",
       "      <th>0003-MKNFE</th>\n",
       "      <td>0</td>\n",
       "      <td>0</td>\n",
       "      <td>0</td>\n",
       "      <td>9</td>\n",
       "      <td>1</td>\n",
       "      <td>1</td>\n",
       "      <td>0</td>\n",
       "      <td>0</td>\n",
       "      <td>0</td>\n",
       "      <td>0</td>\n",
       "      <td>...</td>\n",
       "      <td>0</td>\n",
       "      <td>59.9</td>\n",
       "      <td>542.40</td>\n",
       "      <td>0</td>\n",
       "      <td>0</td>\n",
       "      <td>1</td>\n",
       "      <td>0</td>\n",
       "      <td>1</td>\n",
       "      <td>1</td>\n",
       "      <td>0.0</td>\n",
       "    </tr>\n",
       "    <tr>\n",
       "      <th>0013-MHZWF</th>\n",
       "      <td>0</td>\n",
       "      <td>0</td>\n",
       "      <td>1</td>\n",
       "      <td>9</td>\n",
       "      <td>1</td>\n",
       "      <td>0</td>\n",
       "      <td>0</td>\n",
       "      <td>0</td>\n",
       "      <td>0</td>\n",
       "      <td>1</td>\n",
       "      <td>...</td>\n",
       "      <td>1</td>\n",
       "      <td>69.4</td>\n",
       "      <td>571.45</td>\n",
       "      <td>0</td>\n",
       "      <td>0</td>\n",
       "      <td>1</td>\n",
       "      <td>1</td>\n",
       "      <td>0</td>\n",
       "      <td>2</td>\n",
       "      <td>1.0</td>\n",
       "    </tr>\n",
       "    <tr>\n",
       "      <th>0015-UOCOJ</th>\n",
       "      <td>1</td>\n",
       "      <td>0</td>\n",
       "      <td>0</td>\n",
       "      <td>7</td>\n",
       "      <td>1</td>\n",
       "      <td>0</td>\n",
       "      <td>1</td>\n",
       "      <td>0</td>\n",
       "      <td>0</td>\n",
       "      <td>0</td>\n",
       "      <td>...</td>\n",
       "      <td>1</td>\n",
       "      <td>48.2</td>\n",
       "      <td>340.35</td>\n",
       "      <td>0</td>\n",
       "      <td>0</td>\n",
       "      <td>1</td>\n",
       "      <td>0</td>\n",
       "      <td>0</td>\n",
       "      <td>0</td>\n",
       "      <td>1.0</td>\n",
       "    </tr>\n",
       "    <tr>\n",
       "      <th>0023-HGHWL</th>\n",
       "      <td>1</td>\n",
       "      <td>0</td>\n",
       "      <td>0</td>\n",
       "      <td>1</td>\n",
       "      <td>0</td>\n",
       "      <td>0</td>\n",
       "      <td>0</td>\n",
       "      <td>0</td>\n",
       "      <td>0</td>\n",
       "      <td>0</td>\n",
       "      <td>...</td>\n",
       "      <td>1</td>\n",
       "      <td>25.1</td>\n",
       "      <td>25.10</td>\n",
       "      <td>1</td>\n",
       "      <td>0</td>\n",
       "      <td>1</td>\n",
       "      <td>0</td>\n",
       "      <td>1</td>\n",
       "      <td>0</td>\n",
       "      <td>0.0</td>\n",
       "    </tr>\n",
       "    <tr>\n",
       "      <th>0032-PGELS</th>\n",
       "      <td>0</td>\n",
       "      <td>1</td>\n",
       "      <td>1</td>\n",
       "      <td>1</td>\n",
       "      <td>0</td>\n",
       "      <td>0</td>\n",
       "      <td>1</td>\n",
       "      <td>0</td>\n",
       "      <td>0</td>\n",
       "      <td>0</td>\n",
       "      <td>...</td>\n",
       "      <td>0</td>\n",
       "      <td>30.5</td>\n",
       "      <td>30.50</td>\n",
       "      <td>1</td>\n",
       "      <td>0</td>\n",
       "      <td>1</td>\n",
       "      <td>1</td>\n",
       "      <td>0</td>\n",
       "      <td>0</td>\n",
       "      <td>1.0</td>\n",
       "    </tr>\n",
       "  </tbody>\n",
       "</table>\n",
       "<p>5 rows × 22 columns</p>\n",
       "</div>"
      ],
      "text/plain": [
       "             senior  partner  dependents  tenure  phone  multiple_lines  \\\n",
       "customer_id                                                               \n",
       "0003-MKNFE        0        0           0       9      1               1   \n",
       "0013-MHZWF        0        0           1       9      1               0   \n",
       "0015-UOCOJ        1        0           0       7      1               0   \n",
       "0023-HGHWL        1        0           0       1      0               0   \n",
       "0032-PGELS        0        1           1       1      0               0   \n",
       "\n",
       "             online_security  online_backup  device_protection  tech_support  \\\n",
       "customer_id                                                                    \n",
       "0003-MKNFE                 0              0                  0             0   \n",
       "0013-MHZWF                 0              0                  0             1   \n",
       "0015-UOCOJ                 1              0                  0             0   \n",
       "0023-HGHWL                 0              0                  0             0   \n",
       "0032-PGELS                 1              0                  0             0   \n",
       "\n",
       "             ...  paperless_billing  monthly_charges  total_charges  churn  \\\n",
       "customer_id  ...                                                             \n",
       "0003-MKNFE   ...                  0             59.9         542.40      0   \n",
       "0013-MHZWF   ...                  1             69.4         571.45      0   \n",
       "0015-UOCOJ   ...                  1             48.2         340.35      0   \n",
       "0023-HGHWL   ...                  1             25.1          25.10      1   \n",
       "0032-PGELS   ...                  0             30.5          30.50      1   \n",
       "\n",
       "             contract_type  internet_service_type  auto_pay  gender_Male  \\\n",
       "customer_id                                                                \n",
       "0003-MKNFE               0                      1         0            1   \n",
       "0013-MHZWF               0                      1         1            0   \n",
       "0015-UOCOJ               0                      1         0            0   \n",
       "0023-HGHWL               0                      1         0            1   \n",
       "0032-PGELS               0                      1         1            0   \n",
       "\n",
       "             streaming_services  add_ons  \n",
       "customer_id                               \n",
       "0003-MKNFE                    1      0.0  \n",
       "0013-MHZWF                    2      1.0  \n",
       "0015-UOCOJ                    0      1.0  \n",
       "0023-HGHWL                    0      0.0  \n",
       "0032-PGELS                    0      1.0  \n",
       "\n",
       "[5 rows x 22 columns]"
      ]
     },
     "execution_count": 30,
     "metadata": {},
     "output_type": "execute_result"
    }
   ],
   "source": [
    "df.head()"
   ]
  },
  {
   "cell_type": "markdown",
   "metadata": {},
   "source": [
    "# Data Exploration"
   ]
  },
  {
   "cell_type": "code",
   "execution_count": 31,
   "metadata": {},
   "outputs": [],
   "source": [
    "#start from the top \n",
    "df = acquire.get_telco_data()"
   ]
  },
  {
   "cell_type": "code",
   "execution_count": 32,
   "metadata": {},
   "outputs": [],
   "source": [
    "#grab cleaned df\n",
    "df = prepare.clean_telco(df)"
   ]
  },
  {
   "cell_type": "code",
   "execution_count": 33,
   "metadata": {},
   "outputs": [],
   "source": [
    "# Splitting data into train validate and split\n",
    "train, validate, test = prepare.split(df, stratify_by='churn')"
   ]
  },
  {
   "cell_type": "code",
   "execution_count": 34,
   "metadata": {},
   "outputs": [
    {
     "name": "stdout",
     "output_type": "stream",
     "text": [
      "train -> (3943, 22)\n",
      "validate -> (1691, 22)\n",
      "test -> (1409, 22)\n"
     ]
    }
   ],
   "source": [
    "print(f'train -> {train.shape}')\n",
    "print(f'validate -> {validate.shape}')\n",
    "print(f'test -> {test.shape}')"
   ]
  },
  {
   "cell_type": "code",
   "execution_count": 35,
   "metadata": {},
   "outputs": [
    {
     "data": {
      "text/plain": [
       "0    2897\n",
       "1    1046\n",
       "Name: churn, dtype: int64"
      ]
     },
     "execution_count": 35,
     "metadata": {},
     "output_type": "execute_result"
    }
   ],
   "source": [
    "train.churn.value_counts()"
   ]
  },
  {
   "cell_type": "code",
   "execution_count": 36,
   "metadata": {},
   "outputs": [
    {
     "name": "stdout",
     "output_type": "stream",
     "text": [
      "Number of customers that churn is: 1046\n",
      "\n",
      "Percentage of the customers that churn is: 26.52802434694395\n"
     ]
    }
   ],
   "source": [
    "# lets check how many of our customers churn?\n",
    "print(f'Number of customers that churn is: {train.churn.value_counts()[1]}')\n",
    "print('')\n",
    "\n",
    "print(f'Percentage of the customers that churn is: {train.churn.value_counts()[1]/len(train)*100}')\n",
    "\n",
    "## Approximately 27 % of our customers churn"
   ]
  },
  {
   "cell_type": "code",
   "execution_count": 37,
   "metadata": {},
   "outputs": [
    {
     "data": {
      "text/plain": [
       "<seaborn.axisgrid.FacetGrid at 0x7fe98c1db340>"
      ]
     },
     "execution_count": 37,
     "metadata": {},
     "output_type": "execute_result"
    },
    {
     "data": {
      "image/png": "[encoded data removed]",
      "text/plain": [
       "<Figure size 360x360 with 1 Axes>"
      ]
     },
     "metadata": {
      "needs_background": "light"
     },
     "output_type": "display_data"
    }
   ],
   "source": [
    "sns.displot(train, x=train.monthly_charges)\n"
   ]
  },
  {
   "cell_type": "code",
   "execution_count": 39,
   "metadata": {
    "scrolled": false
   },
   "outputs": [
    {
     "data": {
      "text/plain": [
       "<AxesSubplot:xlabel='contract_type', ylabel='tenure'>"
      ]
     },
     "execution_count": 39,
     "metadata": {},
     "output_type": "execute_result"
    },
    {
     "data": {
      "image/png": "[encoded data removed]",
      "text/plain": [
       "<Figure size 432x288 with 1 Axes>"
      ]
     },
     "metadata": {
      "needs_background": "light"
     },
     "output_type": "display_data"
    }
   ],
   "source": [
    "#Swarplot of different types of contracts and tenure with churn as hue\n",
    "#0 = month-to-month, 1 = one year, 2 = two year\n",
    "sns.swarmplot(x=\"contract_type\", y=\"tenure\", hue=\"churn\", data=train,)\n",
    "#month-to-month, one year, two year"
   ]
  },
  {
   "cell_type": "code",
   "execution_count": 145,
   "metadata": {},
   "outputs": [
    {
     "data": {
      "text/plain": [
       "<AxesSubplot:>"
      ]
     },
     "execution_count": 145,
     "metadata": {},
     "output_type": "execute_result"
    },
    {
     "data": {
      "image/png": "[encoded data removed]",
      "text/plain": [
       "<Figure size 720x576 with 2 Axes>"
      ]
     },
     "metadata": {
      "needs_background": "light"
     },
     "output_type": "display_data"
    }
   ],
   "source": [
    "corr = train.corr()\n",
    "# Set up the matplotlib figure\n",
    "f, ax = plt.subplots(figsize=(10, 8))\n",
    "\n",
    "# Generate a custom diverging colormap\n",
    "cmap = sns.diverging_palette(230, 20, as_cmap=True)\n",
    "\n",
    "# Draw the heatmap with the mask and correct aspect ratio\n",
    "sns.heatmap(corr, cmap=cmap, vmin=-1, vmax=1, center=0,\n",
    "            square=True, linewidths=.5, cbar_kws={\"shrink\": .5})"
   ]
  },
  {
   "cell_type": "markdown",
   "metadata": {},
   "source": [
    "## Hypothesis Testing \n",
    "- ran chi square tests to explore categorical data for Seniors, Tech Support, and Streaming Services\n",
    "- set alpha to .05 \n",
    "- Rejected the null for all\n",
    "\n",
    "### Senior Citizens\n",
    "\n",
    "Initial Hypothesis:\n",
    "\n",
    "$H_0$ = Rate of churn is not dependent on being a senior citizen.\n",
    "\n",
    "$H_a$ = Rate of churn is dependent on being a senior citizen.\n",
    "\n",
    "Significance level $\\alpha$ = 0.05"
   ]
  },
  {
   "cell_type": "code",
   "execution_count": 43,
   "metadata": {},
   "outputs": [
    {
     "data": {
      "text/plain": [
       "<AxesSubplot:xlabel='senior', ylabel='count'>"
      ]
     },
     "execution_count": 43,
     "metadata": {},
     "output_type": "execute_result"
    },
    {
     "data": {
      "image/png": "[encoded data removed]",
      "text/plain": [
       "<Figure size 432x288 with 1 Axes>"
      ]
     },
     "metadata": {
      "needs_background": "light"
     },
     "output_type": "display_data"
    }
   ],
   "source": [
    "#visualize senior citizens that churn\n",
    "sns.countplot(data=train, x='senior', hue=\"churn\")"
   ]
  },
  {
   "cell_type": "code",
   "execution_count": 44,
   "metadata": {},
   "outputs": [
    {
     "data": {
      "text/html": [
       "<div>\n",
       "<style scoped>\n",
       "    .dataframe tbody tr th:only-of-type {\n",
       "        vertical-align: middle;\n",
       "    }\n",
       "\n",
       "    .dataframe tbody tr th {\n",
       "        vertical-align: top;\n",
       "    }\n",
       "\n",
       "    .dataframe thead th {\n",
       "        text-align: right;\n",
       "    }\n",
       "</style>\n",
       "<table border=\"1\" class=\"dataframe\">\n",
       "  <thead>\n",
       "    <tr style=\"text-align: right;\">\n",
       "      <th>churn</th>\n",
       "      <th>0</th>\n",
       "      <th>1</th>\n",
       "    </tr>\n",
       "    <tr>\n",
       "      <th>senior</th>\n",
       "      <th></th>\n",
       "      <th></th>\n",
       "    </tr>\n",
       "  </thead>\n",
       "  <tbody>\n",
       "    <tr>\n",
       "      <th>0</th>\n",
       "      <td>2502</td>\n",
       "      <td>797</td>\n",
       "    </tr>\n",
       "    <tr>\n",
       "      <th>1</th>\n",
       "      <td>395</td>\n",
       "      <td>249</td>\n",
       "    </tr>\n",
       "  </tbody>\n",
       "</table>\n",
       "</div>"
      ],
      "text/plain": [
       "churn      0    1\n",
       "senior           \n",
       "0       2502  797\n",
       "1        395  249"
      ]
     },
     "execution_count": 44,
     "metadata": {},
     "output_type": "execute_result"
    }
   ],
   "source": [
    "# Seniors and churn are two categorical features\n",
    "# I'll use chi-square test for this. \n",
    "\n",
    "# Set alpha \n",
    "alpha = .05\n",
    "\n",
    "# create a cross table\n",
    "table = pd.crosstab(train.senior, train.churn)\n",
    "table"
   ]
  },
  {
   "cell_type": "code",
   "execution_count": 45,
   "metadata": {},
   "outputs": [
    {
     "name": "stdout",
     "output_type": "stream",
     "text": [
      "[[2423.84047679  875.15952321]\n",
      " [ 473.15952321  170.84047679]]\n",
      "p: 3.506345408511119e-14\n"
     ]
    }
   ],
   "source": [
    "chi2, p, degf, expected = chi2_contingency(table)\n",
    "print(expected)\n",
    "print(f\"p: {p}\")"
   ]
  },
  {
   "cell_type": "code",
   "execution_count": 46,
   "metadata": {},
   "outputs": [
    {
     "name": "stdout",
     "output_type": "stream",
     "text": [
      "We reject the null hypothesis.\n"
     ]
    }
   ],
   "source": [
    "if p < alpha:\n",
    "    print(\"We reject the null hypothesis.\")\n",
    "else:\n",
    "    print(\"We fail to reject the null hypothesis.\")"
   ]
  },
  {
   "cell_type": "markdown",
   "metadata": {},
   "source": [
    "### Tech Support \n",
    "\n",
    "Initial Hypothesis:\n",
    "\n",
    "$H_0$ = Rate of churn is not dependent on having tech support.\n",
    "\n",
    "$H_a$ = Rate of churn is dependent on having tech support.\n",
    "\n",
    "Significance level $\\alpha$ = 0.05"
   ]
  },
  {
   "cell_type": "code",
   "execution_count": 47,
   "metadata": {},
   "outputs": [
    {
     "data": {
      "text/plain": [
       "<AxesSubplot:xlabel='tech_support', ylabel='count'>"
      ]
     },
     "execution_count": 47,
     "metadata": {},
     "output_type": "execute_result"
    },
    {
     "data": {
      "image/png": "[encoded data removed]",
      "text/plain": [
       "<Figure size 432x288 with 1 Axes>"
      ]
     },
     "metadata": {
      "needs_background": "light"
     },
     "output_type": "display_data"
    }
   ],
   "source": [
    "#visualize customers with tech support who churn\n",
    "sns.countplot(data=train, x='tech_support', hue=\"churn\")"
   ]
  },
  {
   "cell_type": "code",
   "execution_count": 48,
   "metadata": {},
   "outputs": [
    {
     "data": {
      "text/html": [
       "<div>\n",
       "<style scoped>\n",
       "    .dataframe tbody tr th:only-of-type {\n",
       "        vertical-align: middle;\n",
       "    }\n",
       "\n",
       "    .dataframe tbody tr th {\n",
       "        vertical-align: top;\n",
       "    }\n",
       "\n",
       "    .dataframe thead th {\n",
       "        text-align: right;\n",
       "    }\n",
       "</style>\n",
       "<table border=\"1\" class=\"dataframe\">\n",
       "  <thead>\n",
       "    <tr style=\"text-align: right;\">\n",
       "      <th>churn</th>\n",
       "      <th>0</th>\n",
       "      <th>1</th>\n",
       "    </tr>\n",
       "    <tr>\n",
       "      <th>tech_support</th>\n",
       "      <th></th>\n",
       "      <th></th>\n",
       "    </tr>\n",
       "  </thead>\n",
       "  <tbody>\n",
       "    <tr>\n",
       "      <th>0</th>\n",
       "      <td>1937</td>\n",
       "      <td>880</td>\n",
       "    </tr>\n",
       "    <tr>\n",
       "      <th>1</th>\n",
       "      <td>960</td>\n",
       "      <td>166</td>\n",
       "    </tr>\n",
       "  </tbody>\n",
       "</table>\n",
       "</div>"
      ],
      "text/plain": [
       "churn            0    1\n",
       "tech_support           \n",
       "0             1937  880\n",
       "1              960  166"
      ]
     },
     "execution_count": 48,
     "metadata": {},
     "output_type": "execute_result"
    }
   ],
   "source": [
    "# Tech support and churn are two categorical features\n",
    "# I'll use chi-square test for this. \n",
    "\n",
    "# Set alpha \n",
    "alpha = .05\n",
    "\n",
    "# create a cross table\n",
    "table = pd.crosstab(train.tech_support, train.churn)\n",
    "table"
   ]
  },
  {
   "cell_type": "code",
   "execution_count": 49,
   "metadata": {},
   "outputs": [
    {
     "name": "stdout",
     "output_type": "stream",
     "text": [
      "[[2069.70555415  747.29444585]\n",
      " [ 827.29444585  298.70555415]]\n",
      "p: 4.6583107799676056e-26\n"
     ]
    }
   ],
   "source": [
    "chi2, p, degf, expected = chi2_contingency(table)\n",
    "print(expected)\n",
    "print(f\"p: {p}\")"
   ]
  },
  {
   "cell_type": "code",
   "execution_count": 50,
   "metadata": {},
   "outputs": [
    {
     "name": "stdout",
     "output_type": "stream",
     "text": [
      "We reject the null hypothesis.\n"
     ]
    }
   ],
   "source": [
    "if p < alpha:\n",
    "    print(\"We reject the null hypothesis.\")\n",
    "else:\n",
    "    print(\"We fail to reject the null hypothesis.\")"
   ]
  },
  {
   "cell_type": "markdown",
   "metadata": {},
   "source": [
    "### Streaming Services \n",
    "\n",
    "Initial Hypothesis:\n",
    "\n",
    "$H_0$ = Rate of churn is not dependent on having streaming services.\n",
    "\n",
    "$H_a$ = Rate of churn is dependent on having streaming services.\n",
    "\n",
    "Significance level $\\alpha$ = 0.05"
   ]
  },
  {
   "cell_type": "code",
   "execution_count": 136,
   "metadata": {},
   "outputs": [
    {
     "data": {
      "text/plain": [
       "<AxesSubplot:xlabel='streaming_services', ylabel='count'>"
      ]
     },
     "execution_count": 136,
     "metadata": {},
     "output_type": "execute_result"
    },
    {
     "data": {
      "image/png": "[encoded data removed]",
      "text/plain": [
       "<Figure size 432x288 with 1 Axes>"
      ]
     },
     "metadata": {
      "needs_background": "light"
     },
     "output_type": "display_data"
    }
   ],
   "source": [
    "#visualize customers with tech support who churn\n",
    "sns.countplot(data=train, x='streaming_services', hue=\"churn\")"
   ]
  },
  {
   "cell_type": "code",
   "execution_count": 138,
   "metadata": {},
   "outputs": [
    {
     "data": {
      "text/html": [
       "<div>\n",
       "<style scoped>\n",
       "    .dataframe tbody tr th:only-of-type {\n",
       "        vertical-align: middle;\n",
       "    }\n",
       "\n",
       "    .dataframe tbody tr th {\n",
       "        vertical-align: top;\n",
       "    }\n",
       "\n",
       "    .dataframe thead th {\n",
       "        text-align: right;\n",
       "    }\n",
       "</style>\n",
       "<table border=\"1\" class=\"dataframe\">\n",
       "  <thead>\n",
       "    <tr style=\"text-align: right;\">\n",
       "      <th>churn</th>\n",
       "      <th>0</th>\n",
       "      <th>1</th>\n",
       "    </tr>\n",
       "    <tr>\n",
       "      <th>streaming_services</th>\n",
       "      <th></th>\n",
       "      <th></th>\n",
       "    </tr>\n",
       "  </thead>\n",
       "  <tbody>\n",
       "    <tr>\n",
       "      <th>0</th>\n",
       "      <td>1526</td>\n",
       "      <td>469</td>\n",
       "    </tr>\n",
       "    <tr>\n",
       "      <th>1</th>\n",
       "      <td>617</td>\n",
       "      <td>258</td>\n",
       "    </tr>\n",
       "    <tr>\n",
       "      <th>2</th>\n",
       "      <td>754</td>\n",
       "      <td>319</td>\n",
       "    </tr>\n",
       "  </tbody>\n",
       "</table>\n",
       "</div>"
      ],
      "text/plain": [
       "churn                  0    1\n",
       "streaming_services           \n",
       "0                   1526  469\n",
       "1                    617  258\n",
       "2                    754  319"
      ]
     },
     "execution_count": 138,
     "metadata": {},
     "output_type": "execute_result"
    }
   ],
   "source": [
    "# I'll use chi-square test for this. \n",
    "\n",
    "# Set alpha \n",
    "alpha = .05\n",
    "\n",
    "# create a cross table\n",
    "table = pd.crosstab(train.streaming_services, train.churn)\n",
    "table"
   ]
  },
  {
   "cell_type": "code",
   "execution_count": 139,
   "metadata": {},
   "outputs": [
    {
     "name": "stdout",
     "output_type": "stream",
     "text": [
      "[[1465.76591428  529.23408572]\n",
      " [ 642.87978696  232.12021304]\n",
      " [ 788.35429876  284.64570124]]\n",
      "p: 7.863892191181882e-05\n"
     ]
    }
   ],
   "source": [
    "chi2, p, degf, expected = chi2_contingency(table)\n",
    "print(expected)\n",
    "print(f\"p: {p}\")"
   ]
  },
  {
   "cell_type": "code",
   "execution_count": 140,
   "metadata": {},
   "outputs": [
    {
     "name": "stdout",
     "output_type": "stream",
     "text": [
      "We reject the null hypothesis.\n"
     ]
    }
   ],
   "source": [
    "if p < alpha:\n",
    "    print(\"We reject the null hypothesis.\")\n",
    "else:\n",
    "    print(\"We fail to reject the null hypothesis.\")"
   ]
  },
  {
   "cell_type": "markdown",
   "metadata": {},
   "source": [
    "# Modeling and Evaluation\n",
    "- Establish a baseline accuracy to determine if having a model is better than no model and train and compare 3 different models\n",
    "\n",
    "- Train (fit, transform, evaluate) multiple models, varying the algorithm and/or hyperparameters you use.\n",
    "\n",
    "- Compare evaluation metrics across all the models you train and select the ones you want to evaluate using your validate dataframe.\n",
    "\n",
    "- Based on the evaluation of your models using the train and validate datasets, choose your best model that you will try with your test data, once.\n",
    "\n",
    "- Test the final model on your out-of-sample data (the testing dataset), summarize the performance, interpret and document your results."
   ]
  },
  {
   "cell_type": "markdown",
   "metadata": {},
   "source": [
    "### The Process: \n",
    "- Set up X inputs and y target variable for each split: Train, Validate, Test\n",
    "- Establish Baseline: accuracy was 73% \n",
    "- Ran Random Forest, K Nearest Neighbor, and Logistic Regression \n",
    "- First ran on all features, then ran second set of these tests on select features: seniors, tech support, and streaming services"
   ]
  },
  {
   "cell_type": "code",
   "execution_count": 51,
   "metadata": {},
   "outputs": [],
   "source": [
    "# Set up X inputs and y target variable for each split\n",
    "#Train\n",
    "X_train = train.drop(columns=['churn'])\n",
    "y_train = train.churn\n",
    "\n",
    "#Validate\n",
    "X_validate = validate.drop(columns=['churn'])\n",
    "y_validate = validate.churn\n",
    "\n",
    "#Test\n",
    "X_test = test.drop(columns=['churn'])\n",
    "y_test = test.churn"
   ]
  },
  {
   "cell_type": "markdown",
   "metadata": {},
   "source": [
    "###  Baseline Accuracy "
   ]
  },
  {
   "cell_type": "code",
   "execution_count": 52,
   "metadata": {},
   "outputs": [
    {
     "data": {
      "text/plain": [
       "0    2897\n",
       "1    1046\n",
       "Name: churn, dtype: int64"
      ]
     },
     "execution_count": 52,
     "metadata": {},
     "output_type": "execute_result"
    }
   ],
   "source": [
    "# Most of our customers are still with the company (0 = has not churned)\n",
    "y_train.value_counts()"
   ]
  },
  {
   "cell_type": "code",
   "execution_count": 53,
   "metadata": {},
   "outputs": [
    {
     "name": "stdout",
     "output_type": "stream",
     "text": [
      "baseline accuracy:  0.73\n"
     ]
    }
   ],
   "source": [
    "#baseline model would be to predict 0 since more customers don't churn \n",
    "#baseline accuracy:\n",
    "baseline_accuracy = (train.churn == 0).mean()\n",
    "\n",
    "print(f'baseline accuracy: {baseline_accuracy: .2}')"
   ]
  },
  {
   "cell_type": "markdown",
   "metadata": {},
   "source": [
    "### Decision Tree "
   ]
  },
  {
   "cell_type": "code",
   "execution_count": 55,
   "metadata": {},
   "outputs": [
    {
     "name": "stdout",
     "output_type": "stream",
     "text": [
      "Baseline is 0.73\n",
      "----------------\n",
      "Model trained on all features:\n",
      "Accuracy of 1st Decision Tree classifier on training set: 0.79\n"
     ]
    }
   ],
   "source": [
    "#create 1st Decision Tree model (specifying max_depth argument to avoid overfitting, all features) and compare to baseline\n",
    "clf1 = DecisionTreeClassifier(max_depth=3, random_state=123)\n",
    "\n",
    "#fit model\n",
    "clf1.fit(X_train, y_train)\n",
    "\n",
    "#get predictions from model\n",
    "y_pred = clf1.predict(X_train)\n",
    "\n",
    "#compare to baseline\n",
    "print(\"Baseline is\", round(baseline_accuracy, 2))\n",
    "print(\"----------------\")\n",
    "print(\"Model trained on all features:\")\n",
    "print('Accuracy of 1st Decision Tree classifier on training set: {:.2f}'\n",
    "     .format(clf1.score(X_train, y_train)))"
   ]
  },
  {
   "cell_type": "code",
   "execution_count": 89,
   "metadata": {},
   "outputs": [
    {
     "name": "stdout",
     "output_type": "stream",
     "text": [
      "Accuracy of 1st Decision Tree classifier on training set: 0.79\n",
      "--------------------------------------------------------------\n",
      "2nd Model specifying senior, streaming services, and tech support:\n",
      "Accuracy on training set: 0.73\n"
     ]
    }
   ],
   "source": [
    "#create 2nd decision tree model (specifying max_depth argument and features)\n",
    "clf2 = DecisionTreeClassifier(max_depth=3, random_state=123)\n",
    "\n",
    "#specify the features we're using \n",
    "features = [\"senior\", \"tech_support\", \"streaming_services\"]\n",
    "\n",
    "#fit model using only specified features\n",
    "clf2.fit(X_train[features], y_train)\n",
    "\n",
    "#since model was fit w/ subset of features, then need to .predict on that same subset of features\n",
    "y_pred = clf2.predict(X_train[features])\n",
    "\n",
    "#compare to 1st model\n",
    "print('Accuracy of 1st Decision Tree classifier on training set: {:.2f}'\n",
    "     .format(clf1.score(X_train, y_train)))\n",
    "print(\"--------------------------------------------------------------\")\n",
    "\n",
    "print(\"2nd Model specifying senior, streaming services, and tech support:\")\n",
    "print('Accuracy on training set: {:.2f}'\n",
    "     .format(clf2.score(X_train[features], y_train)))"
   ]
  },
  {
   "cell_type": "markdown",
   "metadata": {},
   "source": [
    "### Random Forest"
   ]
  },
  {
   "cell_type": "code",
   "execution_count": 77,
   "metadata": {},
   "outputs": [
    {
     "name": "stdout",
     "output_type": "stream",
     "text": [
      "Baseline is 0.73\n",
      "----------------\n",
      "Model trained on all features:\n",
      "Accuracy of 1st Random Forest classifier on training set: 0.90\n"
     ]
    }
   ],
   "source": [
    "#create 1st random forest model (specifying max_depth and min_samples_leaf parameters to avoid overfitting, all features) and compare to baseline\n",
    "rf1 = RandomForestClassifier(max_depth=10, min_samples_leaf=1, random_state=123)\n",
    "\n",
    "#fit model\n",
    "rf1 = rf1.fit(X_train, y_train)\n",
    "\n",
    "#get predictions from model\n",
    "y_pred = rf1.predict(X_train)\n",
    "\n",
    "#compare to baseline\n",
    "print(\"Baseline is\", round(baseline_accuracy, 2))\n",
    "print(\"----------------\")\n",
    "print(\"Model trained on all features:\")\n",
    "print('Accuracy of 1st Random Forest classifier on training set: {:.2f}'\n",
    "     .format(rf1.score(X_train, y_train)))\n"
   ]
  },
  {
   "cell_type": "code",
   "execution_count": 83,
   "metadata": {},
   "outputs": [
    {
     "name": "stdout",
     "output_type": "stream",
     "text": [
      "Accuracy of 1st Random Forest classifier on training set: 0.90\n",
      "---------------------------------------------------------------\n",
      "2nd Model specifying senior, tech support, and streaming services:\n",
      "Accuracy on training set: 0.73\n"
     ]
    }
   ],
   "source": [
    "#create 2nd random forest model (specifying max_depth/min_samples_leaf argument and features)\n",
    "rf2 = RandomForestClassifier(max_depth=10, min_samples_leaf=1, random_state=123)\n",
    "\n",
    "#specify the features we're using \n",
    "features = [\"senior\", \"tech_support\", \"streaming_services\"]\n",
    "#fit model using only specified features\n",
    "rf2.fit(X_train[features], y_train)\n",
    "\n",
    "#since model was fit w/ subset of features, then need to .predict on that same subset of features\n",
    "y_pred = rf2.predict(X_train[features])\n",
    "\n",
    "#compare to 1st model\n",
    "print('Accuracy of 1st Random Forest classifier on training set: {:.2f}'\n",
    "     .format(rf1.score(X_train, y_train)))\n",
    "print(\"---------------------------------------------------------------\")\n",
    "\n",
    "print(\"2nd Model specifying senior, tech support, and streaming services:\")\n",
    "print('Accuracy on training set: {:.2f}'\n",
    "     .format(rf2.score(X_train[features], y_train)))"
   ]
  },
  {
   "cell_type": "markdown",
   "metadata": {},
   "source": [
    "### K-Nearest Neighbor (KNN)"
   ]
  },
  {
   "cell_type": "code",
   "execution_count": 60,
   "metadata": {},
   "outputs": [
    {
     "name": "stdout",
     "output_type": "stream",
     "text": [
      "Baseline is 0.73\n",
      "----------------\n",
      "Model trained on all features:\n",
      "Accuracy of 1st KNN classifier on training set: 0.83\n"
     ]
    }
   ],
   "source": [
    "#create 1st knn model (default parameters, all features) and compare to baseline\n",
    "knn1 = KNeighborsClassifier()\n",
    "\n",
    "#fit model\n",
    "knn1 = knn1.fit(X_train, y_train)\n",
    "\n",
    "#get predictions from model\n",
    "y_pred = knn1.predict(X_train)\n",
    "\n",
    "#compare to baseline\n",
    "print(\"Baseline is\", round(baseline_accuracy, 2))\n",
    "print(\"----------------\")\n",
    "print(\"Model trained on all features:\")\n",
    "print('Accuracy of 1st KNN classifier on training set: {:.2f}'\n",
    "     .format(knn1.score(X_train, y_train)))"
   ]
  },
  {
   "cell_type": "code",
   "execution_count": 91,
   "metadata": {
    "scrolled": true
   },
   "outputs": [
    {
     "name": "stdout",
     "output_type": "stream",
     "text": [
      "Accuracy of 1st KNN classifier on training set: 0.83\n",
      "----------------------------------------------------\n",
      "2nd Model specifying senior, streaming services, and tech support:\n",
      "Accuracy on training set: 0.72\n"
     ]
    }
   ],
   "source": [
    "#create 2nd knn model (specifying features)\n",
    "knn2 = KNeighborsClassifier()\n",
    "\n",
    "#specify the features we're using \n",
    "features = [\"senior\", \"streaming_services\", \"tech_support\"]\n",
    "\n",
    "#fit model using only specified features\n",
    "knn2.fit(X_train[features], y_train)\n",
    "\n",
    "#since model was fit w/ subset of features, then need to .predict on that same subset of features\n",
    "y_pred = knn2.predict(X_train[features])\n",
    "\n",
    "#compare to 1st model\n",
    "print('Accuracy of 1st KNN classifier on training set: {:.2f}'\n",
    "     .format(knn1.score(X_train, y_train)))\n",
    "print(\"----------------------------------------------------\")\n",
    "\n",
    "print(\"2nd Model specifying senior, streaming services, and tech support:\")\n",
    "print('Accuracy on training set: {:.2f}'\n",
    "     .format(knn2.score(X_train[features], y_train)))"
   ]
  },
  {
   "cell_type": "markdown",
   "metadata": {},
   "source": [
    "### Logistic Regression "
   ]
  },
  {
   "cell_type": "code",
   "execution_count": 65,
   "metadata": {},
   "outputs": [
    {
     "name": "stdout",
     "output_type": "stream",
     "text": [
      "Baseline is 0.73\n",
      "----------------\n",
      "Model trained on all features:\n",
      "Accuracy of 1st Logistic Regression classifier on training set: 0.80\n"
     ]
    }
   ],
   "source": [
    "#create 1st logistic regression model (default parameters, all features) and compare to baseline\n",
    "logit1 = LogisticRegression(random_state=123)\n",
    "\n",
    "#fit model\n",
    "logit1.fit(X_train, y_train)\n",
    "\n",
    "#get predictions from model\n",
    "y_pred = logit1.predict(X_train)\n",
    "\n",
    "#compare to baseline\n",
    "print(\"Baseline is\", round(baseline_accuracy, 2))\n",
    "print(\"----------------\")\n",
    "print(\"Model trained on all features:\")\n",
    "print('Accuracy of 1st Logistic Regression classifier on training set: {:.2f}'\n",
    "     .format(logit1.score(X_train, y_train)))"
   ]
  },
  {
   "cell_type": "code",
   "execution_count": 92,
   "metadata": {},
   "outputs": [
    {
     "name": "stdout",
     "output_type": "stream",
     "text": [
      "Accuracy of 1st Logistic Regression classifier on training set: 0.80\n",
      "---------------------------------------------------------------\n",
      "2nd Model specifying senior, tech support, and streaming services\n",
      "Accuracy on training set: 0.73\n"
     ]
    }
   ],
   "source": [
    "#create 2nd logistic regression model (default parameters, specifying features) and compare to baseline\n",
    "logit2 = LogisticRegression(random_state=123)\n",
    "\n",
    "#specify the features we're using \n",
    "features = [\"senior\", \"tech_support\", \"streaming_services\"]\n",
    "\n",
    "#fit model using only specified features\n",
    "logit2.fit(X_train[features], y_train)\n",
    "\n",
    "#since model was fit w/ subset of features, then need to .predict on that same subset of features\n",
    "y_pred = logit2.predict(X_train[features])\n",
    "\n",
    "#compare to 1st model\n",
    "print('Accuracy of 1st Logistic Regression classifier on training set: {:.2f}'\n",
    "     .format(logit1.score(X_train, y_train)))\n",
    "print(\"---------------------------------------------------------------\")\n",
    "print(\"2nd Model specifying senior, tech support, and streaming services\")\n",
    "print('Accuracy on training set: {:.2f}'\n",
    "     .format(logit2.score(X_train[features], y_train)))"
   ]
  },
  {
   "cell_type": "markdown",
   "metadata": {},
   "source": [
    "### Findings:\n",
    "- There is value in continuing to create new models because each classification model (using all features) beat the baseline.\n",
    "- There is a decrease on training data's accuracy from the 1st model to the 2nd model, which probably means that specifying certain features are not good predictors of target variable."
   ]
  },
  {
   "cell_type": "markdown",
   "metadata": {},
   "source": [
    "### Use best train models to compare to validate dataset\n",
    "- 2nd Random Forest model using all features \n",
    "- 2nd K-Nearest Neighbor model using all features\n",
    "- 2nd Logistic Regression model using all features "
   ]
  },
  {
   "cell_type": "markdown",
   "metadata": {},
   "source": [
    "### Validate\n",
    "- Findings on KNN and Random Forest accuracy same on train and validate data sets 73%\n",
    "- Accuracy of 2nd Logistic Regression using seniors, tech support, and streaming services features  training set was 74% which is slightly better than the baseline, so I decided to use this for test."
   ]
  },
  {
   "cell_type": "code",
   "execution_count": 93,
   "metadata": {},
   "outputs": [
    {
     "name": "stdout",
     "output_type": "stream",
     "text": [
      "Accuracy of 2nd Random Forest classifier on training set: 0.73\n",
      "--------------------------------------------------------------\n",
      "Random Forest classifier on validate set:\n",
      "              precision    recall  f1-score   support\n",
      "\n",
      "           0       0.73      1.00      0.85      1242\n",
      "           1       0.00      0.00      0.00       449\n",
      "\n",
      "    accuracy                           0.73      1691\n",
      "   macro avg       0.37      0.50      0.42      1691\n",
      "weighted avg       0.54      0.73      0.62      1691\n",
      "\n"
     ]
    }
   ],
   "source": [
    "#2nd random forest model\n",
    "\n",
    "features = [\"senior\", \"tech_support\", \"streaming_services\"]\n",
    "#evaluate on validate sample\n",
    "y_pred = rf2.predict(X_validate[features])\n",
    "\n",
    "#compare train to validate\n",
    "print('Accuracy of 2nd Random Forest classifier on training set: {:.2f}'\n",
    "     .format(rf2.score(X_train[features], y_train)))\n",
    "print(\"--------------------------------------------------------------\")\n",
    "print(\"Random Forest classifier on validate set:\")\n",
    "print(classification_report(y_validate, y_pred))"
   ]
  },
  {
   "cell_type": "code",
   "execution_count": 94,
   "metadata": {},
   "outputs": [
    {
     "name": "stdout",
     "output_type": "stream",
     "text": [
      "Accuracy of 2nd KNN classifier on training set: 0.73\n",
      "--------------------------------------------------------------\n",
      "KNN classifier on validate set:\n",
      "              precision    recall  f1-score   support\n",
      "\n",
      "           0       0.73      1.00      0.85      1242\n",
      "           1       0.00      0.00      0.00       449\n",
      "\n",
      "    accuracy                           0.73      1691\n",
      "   macro avg       0.37      0.50      0.42      1691\n",
      "weighted avg       0.54      0.73      0.62      1691\n",
      "\n"
     ]
    }
   ],
   "source": [
    "#2nd knn model\n",
    "#specify the features we're using \n",
    "features = [\"senior\", \"tech_support\", \"streaming_services\"]\n",
    "\n",
    "#evaluate on validate sample\n",
    "y_pred = knn2.predict(X_validate[features])\n",
    "\n",
    "#compare train to validate\n",
    "print('Accuracy of 2nd KNN classifier on training set: {:.2f}'\n",
    "     .format(knn2.score(X_train[features], y_train)))\n",
    "print(\"--------------------------------------------------------------\")\n",
    "print(\"KNN classifier on validate set:\")\n",
    "print(classification_report(y_validate, y_pred))"
   ]
  },
  {
   "cell_type": "code",
   "execution_count": 95,
   "metadata": {
    "scrolled": true
   },
   "outputs": [
    {
     "name": "stdout",
     "output_type": "stream",
     "text": [
      "Accuracy of 2nd Logistic Regression classifier on training set: 0.73\n",
      "--------------------------------------------------------------\n",
      "Logistic Regression classifier on validate set:\n",
      "              precision    recall  f1-score   support\n",
      "\n",
      "           0       0.75      0.97      0.84      1242\n",
      "           1       0.51      0.08      0.14       449\n",
      "\n",
      "    accuracy                           0.74      1691\n",
      "   macro avg       0.63      0.53      0.49      1691\n",
      "weighted avg       0.68      0.74      0.66      1691\n",
      "\n"
     ]
    }
   ],
   "source": [
    "#Logisitic Regression \n",
    "#specify the features we're using \n",
    "features = [\"senior\", \"tech_support\", \"streaming_services\"]\n",
    "#evaluate on validate sample w/ specified features\n",
    "y_pred = logit2.predict(X_validate[features])\n",
    "#compare train to validate\n",
    "print('Accuracy of 2nd Logistic Regression classifier on training set: {:.2f}'\n",
    "     .format(logit2.score(X_train[features], y_train)))\n",
    "print(\"--------------------------------------------------------------\")\n",
    "print(\"Logistic Regression classifier on validate set:\")\n",
    "print(classification_report(y_validate, y_pred))"
   ]
  },
  {
   "cell_type": "code",
   "execution_count": 96,
   "metadata": {},
   "outputs": [],
   "source": [
    "# findings on KNN and Random Forest accuracy same on train and validate data sets\n",
    "# 2nd logistic regression model accuracy up +1 - will use this model to test final "
   ]
  },
  {
   "cell_type": "markdown",
   "metadata": {},
   "source": [
    "## Test - Final Model \n",
    "- Once again used senior, tech_support, and streaming_services as features\n",
    "- used Logistic Regression with an accuracy of 74% which was slightly better than baseline. "
   ]
  },
  {
   "cell_type": "code",
   "execution_count": 97,
   "metadata": {},
   "outputs": [
    {
     "name": "stdout",
     "output_type": "stream",
     "text": [
      "Test Performance: Logistic Regression\n",
      "Accuracy of Logistic Regression model with senior, tech support, and streaming services: 0.7360\n",
      "[[1007   28]\n",
      " [ 344   30]]\n",
      "              precision    recall  f1-score   support\n",
      "\n",
      "           0       0.75      0.97      0.84      1035\n",
      "           1       0.52      0.08      0.14       374\n",
      "\n",
      "    accuracy                           0.74      1409\n",
      "   macro avg       0.63      0.53      0.49      1409\n",
      "weighted avg       0.68      0.74      0.66      1409\n",
      "\n"
     ]
    }
   ],
   "source": [
    "#Test Final Model \n",
    "features = [\"senior\", \"tech_support\", \"streaming_services\"]\n",
    "\n",
    "y_pred_test = logit2.predict(X_test[features])\n",
    "\n",
    "print(\"Test Performance: Logistic Regression\")\n",
    "\n",
    "print('Accuracy of Logistic Regression model with senior, tech support, and streaming services: {:.4f}'.format(logit2.score(X_test[features], y_test)))\n",
    "\n",
    "print(confusion_matrix(y_test, y_pred_test))\n",
    "\n",
    "print(classification_report(y_test, y_pred_test))"
   ]
  },
  {
   "cell_type": "markdown",
   "metadata": {},
   "source": [
    "## Key Takeaways/Findings"
   ]
  },
  {
   "cell_type": "markdown",
   "metadata": {},
   "source": [
    "## CSV\n",
    "- convert model to CSV file with customer_id, probability of churn, and prediction of churn (1 = churn, 0 = not_churn)"
   ]
  },
  {
   "cell_type": "code",
   "execution_count": 127,
   "metadata": {},
   "outputs": [
    {
     "data": {
      "text/html": [
       "<div>\n",
       "<style scoped>\n",
       "    .dataframe tbody tr th:only-of-type {\n",
       "        vertical-align: middle;\n",
       "    }\n",
       "\n",
       "    .dataframe tbody tr th {\n",
       "        vertical-align: top;\n",
       "    }\n",
       "\n",
       "    .dataframe thead th {\n",
       "        text-align: right;\n",
       "    }\n",
       "</style>\n",
       "<table border=\"1\" class=\"dataframe\">\n",
       "  <thead>\n",
       "    <tr style=\"text-align: right;\">\n",
       "      <th></th>\n",
       "      <th>0</th>\n",
       "      <th>1</th>\n",
       "    </tr>\n",
       "  </thead>\n",
       "  <tbody>\n",
       "    <tr>\n",
       "      <th>0</th>\n",
       "      <td>0.748849</td>\n",
       "      <td>0.251151</td>\n",
       "    </tr>\n",
       "    <tr>\n",
       "      <th>1</th>\n",
       "      <td>0.902424</td>\n",
       "      <td>0.097576</td>\n",
       "    </tr>\n",
       "    <tr>\n",
       "      <th>2</th>\n",
       "      <td>0.748849</td>\n",
       "      <td>0.251151</td>\n",
       "    </tr>\n",
       "    <tr>\n",
       "      <th>3</th>\n",
       "      <td>0.632722</td>\n",
       "      <td>0.367278</td>\n",
       "    </tr>\n",
       "    <tr>\n",
       "      <th>4</th>\n",
       "      <td>0.686424</td>\n",
       "      <td>0.313576</td>\n",
       "    </tr>\n",
       "  </tbody>\n",
       "</table>\n",
       "</div>"
      ],
      "text/plain": [
       "          0         1\n",
       "0  0.748849  0.251151\n",
       "1  0.902424  0.097576\n",
       "2  0.748849  0.251151\n",
       "3  0.632722  0.367278\n",
       "4  0.686424  0.313576"
      ]
     },
     "execution_count": 127,
     "metadata": {},
     "output_type": "execute_result"
    }
   ],
   "source": [
    "output = logit2.predict_proba(X_test[features])\n",
    "output = pd.DataFrame(output)\n",
    "output.head()"
   ]
  },
  {
   "cell_type": "code",
   "execution_count": 128,
   "metadata": {},
   "outputs": [],
   "source": [
    "#rename columns\n",
    "output.columns=[\"ProbabilityNoChurn\", \"ProbabilityChurn\"]"
   ]
  },
  {
   "cell_type": "code",
   "execution_count": 129,
   "metadata": {},
   "outputs": [],
   "source": [
    "output.index = X_test.index"
   ]
  },
  {
   "cell_type": "code",
   "execution_count": 130,
   "metadata": {},
   "outputs": [
    {
     "data": {
      "text/html": [
       "<div>\n",
       "<style scoped>\n",
       "    .dataframe tbody tr th:only-of-type {\n",
       "        vertical-align: middle;\n",
       "    }\n",
       "\n",
       "    .dataframe tbody tr th {\n",
       "        vertical-align: top;\n",
       "    }\n",
       "\n",
       "    .dataframe thead th {\n",
       "        text-align: right;\n",
       "    }\n",
       "</style>\n",
       "<table border=\"1\" class=\"dataframe\">\n",
       "  <thead>\n",
       "    <tr style=\"text-align: right;\">\n",
       "      <th></th>\n",
       "      <th>ProbabilityNoChurn</th>\n",
       "      <th>ProbabilityChurn</th>\n",
       "    </tr>\n",
       "    <tr>\n",
       "      <th>customer_id</th>\n",
       "      <th></th>\n",
       "      <th></th>\n",
       "    </tr>\n",
       "  </thead>\n",
       "  <tbody>\n",
       "    <tr>\n",
       "      <th>3420-YJLQT</th>\n",
       "      <td>0.748849</td>\n",
       "      <td>0.251151</td>\n",
       "    </tr>\n",
       "    <tr>\n",
       "      <th>6543-JXSOO</th>\n",
       "      <td>0.902424</td>\n",
       "      <td>0.097576</td>\n",
       "    </tr>\n",
       "    <tr>\n",
       "      <th>5577-OTWWW</th>\n",
       "      <td>0.748849</td>\n",
       "      <td>0.251151</td>\n",
       "    </tr>\n",
       "  </tbody>\n",
       "</table>\n",
       "</div>"
      ],
      "text/plain": [
       "             ProbabilityNoChurn  ProbabilityChurn\n",
       "customer_id                                      \n",
       "3420-YJLQT             0.748849          0.251151\n",
       "6543-JXSOO             0.902424          0.097576\n",
       "5577-OTWWW             0.748849          0.251151"
      ]
     },
     "execution_count": 130,
     "metadata": {},
     "output_type": "execute_result"
    }
   ],
   "source": [
    "output.head(3)"
   ]
  },
  {
   "cell_type": "code",
   "execution_count": 131,
   "metadata": {},
   "outputs": [],
   "source": [
    "y_pred_test = logit2.predict(X_test[features])"
   ]
  },
  {
   "cell_type": "code",
   "execution_count": 133,
   "metadata": {},
   "outputs": [
    {
     "data": {
      "text/html": [
       "<div>\n",
       "<style scoped>\n",
       "    .dataframe tbody tr th:only-of-type {\n",
       "        vertical-align: middle;\n",
       "    }\n",
       "\n",
       "    .dataframe tbody tr th {\n",
       "        vertical-align: top;\n",
       "    }\n",
       "\n",
       "    .dataframe thead th {\n",
       "        text-align: right;\n",
       "    }\n",
       "</style>\n",
       "<table border=\"1\" class=\"dataframe\">\n",
       "  <thead>\n",
       "    <tr style=\"text-align: right;\">\n",
       "      <th></th>\n",
       "      <th>ProbabilityNoChurn</th>\n",
       "      <th>ProbabilityChurn</th>\n",
       "      <th>prediction</th>\n",
       "    </tr>\n",
       "    <tr>\n",
       "      <th>customer_id</th>\n",
       "      <th></th>\n",
       "      <th></th>\n",
       "      <th></th>\n",
       "    </tr>\n",
       "  </thead>\n",
       "  <tbody>\n",
       "    <tr>\n",
       "      <th>3420-YJLQT</th>\n",
       "      <td>0.748849</td>\n",
       "      <td>0.251151</td>\n",
       "      <td>0</td>\n",
       "    </tr>\n",
       "    <tr>\n",
       "      <th>6543-JXSOO</th>\n",
       "      <td>0.902424</td>\n",
       "      <td>0.097576</td>\n",
       "      <td>0</td>\n",
       "    </tr>\n",
       "    <tr>\n",
       "      <th>5577-OTWWW</th>\n",
       "      <td>0.748849</td>\n",
       "      <td>0.251151</td>\n",
       "      <td>0</td>\n",
       "    </tr>\n",
       "    <tr>\n",
       "      <th>6646-JPPHA</th>\n",
       "      <td>0.632722</td>\n",
       "      <td>0.367278</td>\n",
       "      <td>0</td>\n",
       "    </tr>\n",
       "    <tr>\n",
       "      <th>5759-RCVCB</th>\n",
       "      <td>0.686424</td>\n",
       "      <td>0.313576</td>\n",
       "      <td>0</td>\n",
       "    </tr>\n",
       "  </tbody>\n",
       "</table>\n",
       "</div>"
      ],
      "text/plain": [
       "             ProbabilityNoChurn  ProbabilityChurn  prediction\n",
       "customer_id                                                  \n",
       "3420-YJLQT             0.748849          0.251151           0\n",
       "6543-JXSOO             0.902424          0.097576           0\n",
       "5577-OTWWW             0.748849          0.251151           0\n",
       "6646-JPPHA             0.632722          0.367278           0\n",
       "5759-RCVCB             0.686424          0.313576           0"
      ]
     },
     "execution_count": 133,
     "metadata": {},
     "output_type": "execute_result"
    }
   ],
   "source": [
    "#create new column w/ predictions from test data\n",
    "output[\"prediction\"] = y_pred_test\n",
    "output.head()"
   ]
  },
  {
   "cell_type": "code",
   "execution_count": 134,
   "metadata": {},
   "outputs": [],
   "source": [
    "#generate csv \n",
    "output.to_csv(\"predictions.csv\")"
   ]
  },
  {
   "cell_type": "code",
   "execution_count": null,
   "metadata": {},
   "outputs": [],
   "source": []
  }
 ],
 "metadata": {
  "kernelspec": {
   "display_name": "Python 3",
   "language": "python",
   "name": "python3"
  },
  "language_info": {
   "codemirror_mode": {
    "name": "ipython",
    "version": 3
   },
   "file_extension": ".py",
   "mimetype": "text/x-python",
   "name": "python",
   "nbconvert_exporter": "python",
   "pygments_lexer": "ipython3",
   "version": "3.8.5"
  }
 },
 "nbformat": 4,
 "nbformat_minor": 4
}
